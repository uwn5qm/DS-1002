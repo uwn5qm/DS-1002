{
  "cells": [
    {
      "cell_type": "markdown",
      "metadata": {
        "id": "view-in-github",
        "colab_type": "text"
      },
      "source": [
        "<a href=\"https://colab.research.google.com/github/uwn5qm/DS-1002/blob/main/Pandas/pandas1_student.ipynb\" target=\"_parent\"><img src=\"https://colab.research.google.com/assets/colab-badge.svg\" alt=\"Open In Colab\"/></a>"
      ]
    },
    {
      "cell_type": "markdown",
      "metadata": {
        "id": "GGgHm0dJNf-q"
      },
      "source": [
        "## Pandas DataFrames I\n",
        "\n",
        "\n",
        "### Programming for Data Science\n",
        "---  \n",
        "\n",
        "### PREREQUISITES\n",
        "- variables\n",
        "- data types\n",
        "- operators\n",
        "- list comprehensions (not essential)\n",
        "- numpy arrays (not essential)\n",
        "\n",
        "\n",
        "### SOURCES\n",
        "- ten minutes to pandas  \n",
        "https://pandas.pydata.org/pandas-docs/stable/user_guide/10min.html\n",
        "\n",
        "\n",
        "- sort_values()  \n",
        "https://pandas.pydata.org/pandas-docs/stable/reference/api/pandas.DataFrame.sort_values.html\n",
        "\n",
        "\n",
        "- value_counts()  \n",
        "https://pandas.pydata.org/pandas-docs/stable/reference/api/pandas.Series.value_counts.html\n",
        "\n",
        "\n",
        "- to_csv() : saving to CSV file  \n",
        "https://pandas.pydata.org/pandas-docs/stable/reference/api/pandas.DataFrame.to_csv.html\n",
        "\n",
        "\n",
        "- read_csv() : load CSV file into DataFrame  \n",
        "https://pandas.pydata.org/pandas-docs/stable/reference/api/pandas.read_csv.html\n",
        "\n",
        "\n",
        "- dropna() : drop missing data  \n",
        "https://pandas.pydata.org/pandas-docs/stable/reference/api/pandas.DataFrame.dropna.html\n",
        "\n",
        "\n",
        "- fillna() : impute missing data  \n",
        "https://pandas.pydata.org/pandas-docs/stable/reference/api/pandas.DataFrame.fillna.html\n",
        "\n",
        "\n",
        "\n",
        "\n",
        "### OBJECTIVES\n",
        "- Introduce pandas dataframes and the essential operations"
      ]
    },
    {
      "cell_type": "markdown",
      "metadata": {
        "tags": [],
        "id": "verlgMgpNf-r"
      },
      "source": [
        "# Pandas DataFrames\n",
        "\n",
        "The **Series**: a 1-dimensional labeled array capable of holding any data type.\n",
        "\n",
        "The **DataFrame**: a 2-dimensional labeled data structure with columns of potentially different types.\n",
        "\n",
        "> Note: Pandas used to have a 3-dimensional structure called a **panel**, but it has been removed from the library.\\\n",
        "Ironically, the name \"pandas\" was partly derived the word \"panel\": $pan(el)-da(ta)-s$.\\\n",
        "To handle higher dimensional data, the Pandas team suggests using [XArray](https://xarray.pydata.org/en/stable/), which also build on NumPy arrays.\n",
        "\n",
        "By far, the most important data structure in Pandas is the dataframe, with the series playing a supporting role.\n",
        "\n",
        "In fact, dataframe objects are built out of series objects.\n",
        "\n",
        "So, **to understand what a dataframe is and how it behaves, you need to understand what is series is and how it is constructed.**\n",
        "\n",
        "Before going into that, here are two quick observations about dataframes:\n",
        "\n",
        "First, dataframes are **inspired by the R structure** of the same name. They have many similarities, but there are fundamental differences between the two that go beyond mere language differences. Most important is the Pandas dataframes have **indexes**, whereas R dataframes do not.\n",
        "\n",
        "Second, it is helpful to think of Pandas as wrapper around NumPy and Matplotlib that makes it much easier to perform common operations, like select data by column name or visualizing plots. But this comes at a cost -- Pandas is slower than NumPy. The represents the classic trade-off between **ease-of-use** for humans and machine **performance**.\n",
        "\n",
        "For shorthand, `df` will refer to pandas DataFrames.  \n",
        "\n",
        "DataFrames can be created with pandas.    \n",
        "Various formats (`csv`,`json`,...) can be loaded into DataFrames.   \n",
        "\n",
        "The [ten minutes to pandas link](https://pandas.pydata.org/pandas-docs/stable/user_guide/10min.html) above gives a good, brief overview of pandas. Be sure to review.\n",
        "\n",
        "Import pandas like this, where the alias `pd` is convention:"
      ]
    },
    {
      "cell_type": "code",
      "execution_count": 2,
      "metadata": {
        "id": "9rw4yIgrNf-s"
      },
      "outputs": [],
      "source": [
        "import pandas as pd"
      ]
    },
    {
      "cell_type": "markdown",
      "metadata": {
        "id": "8g2l2EEMNf-t"
      },
      "source": [
        "# Series Objects"
      ]
    },
    {
      "cell_type": "markdown",
      "metadata": {
        "id": "IJxCARDlNf-t"
      },
      "source": [
        "## Axis Labels (Indexes)\n",
        "\n",
        "A series is at heart a one-dimensional array with **labels** along its axis.\n",
        "* Its data must be of a single type, like NumPy arrays (which they are internally).\n",
        "* Think of a series as being oriented *vertically*.\n",
        "\n",
        "The axis labels are collectively referred to as the **index**.\n",
        "\n",
        "Think of **the index as a separate data structure** that is attached to the array.\n",
        "* The array holds the data.\n",
        "* The index holds the names of the observations or things that the data are about.\n",
        "\n",
        "Why have an index?\n",
        "* Provides a way to access elements of the array by name\n",
        "* Allows series objects that share index labels to be combined\n",
        "\n",
        "In fact, **a dataframe is a collection of series** with a common index.\n",
        "\n",
        "To this collection of series the dataframe adds a set of labels along the horizontal axis.\n",
        "* The index is **axis 0**\n",
        "* The columns are labeled by a different set of labels along **axis 1**\n",
        "\n",
        "Note that both index and column labels can be **multidimensional**.\n",
        "* The are called Hierarchical Indexes and go the technical name of `MultiIndexes`.\n",
        "* As an example, consider that a table of text data might have a two-column index: `(book_id, chap_id)`\n",
        "* See [the Pandas documentation](https://pandas.pydata.org/docs/user_guide/advanced.html).\n",
        "\n",
        "It is **crucial** to understand the difference between the index of a dataframe and its data in order to understand how dataframes work.\n",
        "\n",
        "Many a headache is caused by not understanding this difference :-)\n",
        "\n",
        "**Indexes are powerful and controversial.**\n",
        "* They allow for all kinds of magic to take place when combining and accessing data.\n",
        "* But they are expensive and sometimes hard to work with (especially multiindexes).\n",
        "* They are especially difficult if you are coming from R and expecting dataframes to behave a certain way."
      ]
    },
    {
      "cell_type": "markdown",
      "metadata": {
        "id": "YO9Esak7Nf-t"
      },
      "source": [
        "## A visual"
      ]
    },
    {
      "cell_type": "markdown",
      "metadata": {
        "id": "bhmw3IyzNf-u"
      },
      "source": [
        "<img src=\"https://pynative.com/wp-content/uploads/2021/02/dataframe.png\" width=\"50%\" height=\"100%\"/>\n",
        "\n"
      ]
    },
    {
      "cell_type": "markdown",
      "metadata": {
        "tags": [],
        "id": "A6uq-5dBNf-u"
      },
      "source": [
        "# DataFrames Constructors\n",
        "\n",
        "Several ways to create pandas dataframes\n",
        "\n",
        "**Passing a dictionary of objects:**"
      ]
    },
    {
      "cell_type": "code",
      "execution_count": null,
      "metadata": {
        "id": "LdUpjgunNf-v"
      },
      "outputs": [],
      "source": [
        "# x, y, z, are lists in the dict\n",
        "\n",
        "df = pd.DataFrame({\n",
        "    'x': [0, 2, 1, 5],\n",
        "    'y': [1, 1, 0, 0],\n",
        "    'z': [True, False, False, False]\n",
        "})"
      ]
    },
    {
      "cell_type": "code",
      "execution_count": null,
      "metadata": {
        "id": "mFRdJBFnNf-v"
      },
      "outputs": [],
      "source": [
        "df"
      ]
    },
    {
      "cell_type": "markdown",
      "metadata": {
        "id": "nE7WkPR0Nf-v"
      },
      "source": [
        "**`.index`**  \n",
        "https://pandas.pydata.org/docs/reference/api/pandas.Index.html"
      ]
    },
    {
      "cell_type": "code",
      "execution_count": null,
      "metadata": {
        "id": "gSg7-ChcNf-v"
      },
      "outputs": [],
      "source": [
        "df.index"
      ]
    },
    {
      "cell_type": "markdown",
      "source": [
        "You can change the index by assigning a list of values:"
      ],
      "metadata": {
        "id": "PJMMIGxrQexJ"
      }
    },
    {
      "cell_type": "code",
      "source": [
        "df.index = ['first','second','third','fourth']"
      ],
      "metadata": {
        "id": "gx8_I5HOQR1f"
      },
      "execution_count": null,
      "outputs": []
    },
    {
      "cell_type": "code",
      "source": [
        "df"
      ],
      "metadata": {
        "id": "P8tvAQ_PQajj"
      },
      "execution_count": null,
      "outputs": []
    },
    {
      "cell_type": "markdown",
      "metadata": {
        "id": "gWgvZRpONf-v"
      },
      "source": [
        "**`list()`**  \n",
        "casts object to list  \n",
        "here will give you the df index as a list"
      ]
    },
    {
      "cell_type": "code",
      "execution_count": null,
      "metadata": {
        "id": "FiLkc9-WNf-v"
      },
      "outputs": [],
      "source": [
        "list(df.index)"
      ]
    },
    {
      "cell_type": "markdown",
      "metadata": {
        "id": "9PH0myDTNf-v"
      },
      "source": [
        "**`.columns`**  \n",
        "gives you the column labels"
      ]
    },
    {
      "cell_type": "code",
      "execution_count": null,
      "metadata": {
        "id": "0dFRH6nqNf-w"
      },
      "outputs": [],
      "source": [
        "df.columns"
      ]
    },
    {
      "cell_type": "code",
      "execution_count": null,
      "metadata": {
        "id": "YhvG3S6_Nf-w"
      },
      "outputs": [],
      "source": [
        "# can also cast as a list\n",
        "list(df.columns)"
      ]
    },
    {
      "cell_type": "markdown",
      "metadata": {
        "id": "5dXVCvinNf-w"
      },
      "source": [
        "**`.values`**  \n",
        "gives a Numpy representation of the dataframe (more on numpy later)  \n",
        "can also use `.to_numpy()`"
      ]
    },
    {
      "cell_type": "code",
      "execution_count": null,
      "metadata": {
        "id": "V9G1fOuwNf-w"
      },
      "outputs": [],
      "source": [
        "df.values"
      ]
    },
    {
      "cell_type": "code",
      "execution_count": null,
      "metadata": {
        "id": "ExPXMUY2Nf-w"
      },
      "outputs": [],
      "source": [
        "type(df.values)"
      ]
    },
    {
      "cell_type": "markdown",
      "metadata": {
        "id": "So90d91_Nf-w"
      },
      "source": [
        "**Passing the three required pieces:**\n",
        "- columns as list\n",
        "- index as list\n",
        "- data as list of lists"
      ]
    },
    {
      "cell_type": "code",
      "execution_count": null,
      "metadata": {
        "id": "R9j9mIegNf-w"
      },
      "outputs": [],
      "source": [
        "df2 = pd.DataFrame(\n",
        "    columns=['x','y'],\n",
        "    index=['row1','row2','row3'],\n",
        "    data=[[9,3],[1,2],[4,6]])"
      ]
    },
    {
      "cell_type": "code",
      "execution_count": null,
      "metadata": {
        "id": "pQfFAT1KNf-x"
      },
      "outputs": [],
      "source": [
        "df2"
      ]
    },
    {
      "cell_type": "markdown",
      "metadata": {
        "id": "-1EEe4UzNf-x"
      },
      "source": [
        "**Passing a nested list (or list-like):**"
      ]
    },
    {
      "cell_type": "code",
      "execution_count": null,
      "metadata": {
        "id": "_M2Nu5ETNf-x"
      },
      "outputs": [],
      "source": [
        "my_data = [\n",
        "    ('a', 1, True),\n",
        "    ('b', 2, False)\n",
        "]\n",
        "df3 = pd.DataFrame(my_data, columns=['f1', 'f2', 'f3'])"
      ]
    },
    {
      "cell_type": "code",
      "execution_count": null,
      "metadata": {
        "id": "CEKGR9VYNf-x"
      },
      "outputs": [],
      "source": [
        "df3"
      ]
    },
    {
      "cell_type": "markdown",
      "metadata": {
        "tags": [],
        "id": "-_IzONwLNf-x"
      },
      "source": [
        "# Naming indexes"
      ]
    },
    {
      "cell_type": "code",
      "execution_count": null,
      "metadata": {
        "tags": [],
        "id": "fhyuNmzcNf-x"
      },
      "outputs": [],
      "source": [
        "df3.index.name = 'obs_id'"
      ]
    },
    {
      "cell_type": "code",
      "execution_count": null,
      "metadata": {
        "tags": [],
        "id": "3n1DjZIWNf-x"
      },
      "outputs": [],
      "source": [
        "df3"
      ]
    },
    {
      "cell_type": "markdown",
      "metadata": {
        "tags": [],
        "id": "GXhUN-7tNf-x"
      },
      "source": [
        "# Copying DataFrames with `copy()`"
      ]
    },
    {
      "cell_type": "markdown",
      "metadata": {
        "id": "EIqvD7SUNf-x"
      },
      "source": [
        "Use `copy()` to give the new df a clean break from the original.  \n",
        "\n",
        "Otherwise, the copied df will point to the same object as the original."
      ]
    },
    {
      "cell_type": "code",
      "execution_count": null,
      "metadata": {
        "id": "-4zsZcEsNf-x"
      },
      "outputs": [],
      "source": [
        "df = pd.DataFrame({'x':[0,2,1,5], 'y':[1,1,0,0], 'z':[True,False,False,False]})"
      ]
    },
    {
      "cell_type": "code",
      "execution_count": null,
      "metadata": {
        "id": "qq_C1y70Nf-x"
      },
      "outputs": [],
      "source": [
        "df_deep    = df.copy()  # deep copy; changes to df will not pass through\n",
        "df_shallow = df         # shallow copy; changes to df will pass through"
      ]
    },
    {
      "cell_type": "code",
      "execution_count": null,
      "metadata": {
        "id": "ac69kBb3Nf-y"
      },
      "outputs": [],
      "source": [
        "print('--df')\n",
        "print(df)\n",
        "\n",
        "# update values in df.x\n",
        "df.x = 1\n",
        "\n",
        "print('--Updated df')\n",
        "print(df)\n",
        "print('--df_shallow')\n",
        "print(df_shallow)\n",
        "print('--df_deep')\n",
        "print(df_deep)\n",
        "\n",
        "# rebuild df\n",
        "df = pd.DataFrame({'x':[0,2,1,5], 'y':[1,1,0,0], 'z':[True,False,False,False]})"
      ]
    },
    {
      "cell_type": "markdown",
      "metadata": {
        "id": "UnpdSCDaNf-y"
      },
      "source": [
        "Notice `df_shallow` mirrors changes to `df`, since it references its indices and data.  \n",
        "`df_deep` does not reference `df`, and so changes `to` df do not impact `df_deep`."
      ]
    },
    {
      "cell_type": "markdown",
      "metadata": {
        "id": "ASDHQjNVNf-y"
      },
      "source": [
        "# Column Data Types"
      ]
    },
    {
      "cell_type": "markdown",
      "metadata": {
        "id": "plVtJbQeNf-y"
      },
      "source": [
        "**`With `.types`**"
      ]
    },
    {
      "cell_type": "code",
      "execution_count": null,
      "metadata": {
        "id": "-FrFgg-SNf-y"
      },
      "outputs": [],
      "source": [
        "df.dtypes"
      ]
    },
    {
      "cell_type": "markdown",
      "metadata": {
        "id": "Z12kBkrNNf-y"
      },
      "source": [
        "**With `.info()`**"
      ]
    },
    {
      "cell_type": "code",
      "execution_count": null,
      "metadata": {
        "id": "kMwSeTwsNf-y"
      },
      "outputs": [],
      "source": [
        "df.info()"
      ]
    },
    {
      "cell_type": "markdown",
      "metadata": {
        "tags": [],
        "id": "r9utB8EZNf-y"
      },
      "source": [
        "**Column Renaming with `.rename()`**\n",
        "\n",
        "Can rename one or more fields at once using a dict.  \n",
        "\n",
        "Rename the field `z` to `is_label`:"
      ]
    },
    {
      "cell_type": "code",
      "execution_count": null,
      "metadata": {
        "id": "6p-90XCBNf-y"
      },
      "outputs": [],
      "source": [
        "df = df.rename(columns={'z': 'is_label'})"
      ]
    },
    {
      "cell_type": "code",
      "execution_count": null,
      "metadata": {
        "id": "zGbTqC7LNf-y"
      },
      "outputs": [],
      "source": [
        "df"
      ]
    },
    {
      "cell_type": "markdown",
      "metadata": {
        "id": "o1aCUboYNf-z"
      },
      "source": [
        "# Column Referencing\n",
        "\n",
        "Use bracket notation or dot notation.  \n",
        "- bracket notation: variable name must be a string"
      ]
    },
    {
      "cell_type": "markdown",
      "metadata": {
        "id": "LcZyqWVXNf-z"
      },
      "source": [
        "**Bracket**"
      ]
    },
    {
      "cell_type": "code",
      "execution_count": null,
      "metadata": {
        "id": "Q7I6U-DgNf-z"
      },
      "outputs": [],
      "source": [
        "df['y']"
      ]
    },
    {
      "cell_type": "markdown",
      "metadata": {
        "id": "AUSk3CcfNf-z"
      },
      "source": [
        "**Dot** (i.e. as object attribute)"
      ]
    },
    {
      "cell_type": "code",
      "execution_count": null,
      "metadata": {
        "id": "CRf8likbNf-z"
      },
      "outputs": [],
      "source": [
        "df.y"
      ]
    },
    {
      "cell_type": "markdown",
      "metadata": {
        "id": "pXuVvWmFNf-z"
      },
      "source": [
        "Dot notation is very convenient, since as object attributes they can be tab-completed in various editing environments.\n",
        "\n",
        "But:\n",
        "- It only works if the column names are not reserved words\n",
        "- It can't be used when created a new column (see below)"
      ]
    },
    {
      "cell_type": "markdown",
      "metadata": {
        "id": "km_YQ-dcNf-z"
      },
      "source": [
        "Column attributes and methods work with both:\n",
        " - example: `.values`"
      ]
    },
    {
      "cell_type": "code",
      "execution_count": null,
      "metadata": {
        "id": "GGeVo7VRNf-z"
      },
      "outputs": [],
      "source": [
        "df.y.values, df['y'].values"
      ]
    },
    {
      "cell_type": "markdown",
      "metadata": {
        "id": "7OQvqE8MNf-z"
      },
      "source": [
        "show only the first value, by indexing:"
      ]
    },
    {
      "cell_type": "code",
      "execution_count": null,
      "metadata": {
        "id": "PhtLk6QaNf-z"
      },
      "outputs": [],
      "source": [
        "df.y.values[0]"
      ]
    },
    {
      "cell_type": "markdown",
      "metadata": {
        "id": "-YyZ4pLjNf-z"
      },
      "source": [
        "# Column Selection\n",
        "\n",
        "You select columns from a dataframe by passing a value or list (or any expression that evaluates to a list)."
      ]
    },
    {
      "cell_type": "code",
      "execution_count": null,
      "metadata": {
        "id": "5MxZgTo-Nf-0"
      },
      "outputs": [],
      "source": [
        "# single bracket\n",
        "df['x']"
      ]
    },
    {
      "cell_type": "code",
      "execution_count": null,
      "metadata": {
        "id": "1NDBpwNENf-0"
      },
      "outputs": [],
      "source": [
        "# double bracket\n",
        "df[['x']]"
      ]
    },
    {
      "cell_type": "code",
      "execution_count": null,
      "metadata": {
        "id": "qYWpwQGfNf-0"
      },
      "outputs": [],
      "source": [
        "df[['y', 'x']]"
      ]
    },
    {
      "cell_type": "markdown",
      "metadata": {
        "id": "Jer31f37Nf-0"
      },
      "source": [
        "### TRY FOR YOURSELF (UNGRADED EXERCISES)\n",
        "\n",
        "1) Create a dataframe called `dat` by passing a dictionary of inputs. Here are the requirements:\n",
        "- has a column named `features` containing floats\n",
        "- has a column named `labels` containing integers 0, 1, 2  \n",
        "\n",
        "Print the df."
      ]
    },
    {
      "cell_type": "code",
      "execution_count": 5,
      "metadata": {
        "id": "KAbETPOGNf-0",
        "outputId": "33903bb9-9d0e-4f99-b475-c57db5787c01",
        "colab": {
          "base_uri": "https://localhost:8080/"
        }
      },
      "outputs": [
        {
          "output_type": "stream",
          "name": "stdout",
          "text": [
            "      features  labels\n",
            "row1       0.9       0\n",
            "row2       0.1       1\n",
            "row3       0.4       2\n"
          ]
        }
      ],
      "source": [
        "dat = pd.DataFrame(\n",
        "    columns=['features','labels'],\n",
        "    index=['row1','row2','row3'],\n",
        "    data=[[.9,0],[.1,1],[.4,2]])\n",
        "print(dat)"
      ]
    },
    {
      "cell_type": "markdown",
      "metadata": {
        "id": "mnm8rzPzNf-0"
      },
      "source": [
        "2) Rename the `labels` column in `dat` to `label`.  \n",
        "[Documentation](https://pandas.pydata.org/docs/reference/api/pandas.DataFrame.rename.html)"
      ]
    },
    {
      "cell_type": "code",
      "execution_count": 8,
      "metadata": {
        "id": "v_53buIqNf-0",
        "outputId": "74d70d00-6988-41ed-c449-21e992b22710",
        "colab": {
          "base_uri": "https://localhost:8080/"
        }
      },
      "outputs": [
        {
          "output_type": "stream",
          "name": "stdout",
          "text": [
            "      features  label\n",
            "row1       0.9      0\n",
            "row2       0.1      1\n",
            "row3       0.4      2\n"
          ]
        }
      ],
      "source": [
        "dat = dat.rename(columns={'labels': 'label'})\n",
        "print(dat)"
      ]
    },
    {
      "cell_type": "markdown",
      "metadata": {
        "id": "ZBM7QwqWNf-0"
      },
      "source": [
        "# Adding New Columns\n",
        "\n",
        "It is typical to create a new column from existing columns.  \n",
        "\n",
        "In this example, a new column (or field) is created by summing `x` and `y`:"
      ]
    },
    {
      "cell_type": "code",
      "execution_count": null,
      "metadata": {
        "id": "c1enn0I6Nf-0"
      },
      "outputs": [],
      "source": [
        "df['x_plus_y'] = df.x + df.y"
      ]
    },
    {
      "cell_type": "code",
      "execution_count": null,
      "metadata": {
        "id": "B9Bt0FzyNf-0"
      },
      "outputs": [],
      "source": [
        "df"
      ]
    },
    {
      "cell_type": "markdown",
      "metadata": {
        "id": "lxS3MySXNf-0"
      },
      "source": [
        "Notice the components:\n",
        "\n",
        "- the left side has form: DataFrame name, bracket notation, new column name\n",
        "- the assignment operator `=` is used\n",
        "- the right side contains an expression; here, two df columns are summed"
      ]
    },
    {
      "cell_type": "markdown",
      "metadata": {
        "id": "95E4mgkWNf-1"
      },
      "source": [
        "Bracket notation also works on the fields, but it's more typing:"
      ]
    },
    {
      "cell_type": "code",
      "execution_count": null,
      "metadata": {
        "id": "kRygfdQrNf-1"
      },
      "outputs": [],
      "source": [
        "df['x_plus_y'] = df['x'] + df['y']\n",
        "df"
      ]
    },
    {
      "cell_type": "markdown",
      "metadata": {
        "id": "60_v7RBPNf-1"
      },
      "source": [
        "The bracket notation must be used when assigning to a new column. This will break:"
      ]
    },
    {
      "cell_type": "code",
      "execution_count": null,
      "metadata": {
        "id": "oWncac9KNf-1"
      },
      "outputs": [],
      "source": [
        "df'x_plus_y' = df.x + df.y"
      ]
    },
    {
      "cell_type": "markdown",
      "metadata": {
        "tags": [],
        "id": "gnf8epXoNf-1"
      },
      "source": [
        "# Removing Columns with `del` and `.drop()`"
      ]
    },
    {
      "cell_type": "markdown",
      "metadata": {
        "tags": [],
        "id": "IcK9lQoBNf-1"
      },
      "source": [
        "## `del`\n",
        "\n",
        "`del` can drop a DataFrame or single columns from the frame"
      ]
    },
    {
      "cell_type": "code",
      "execution_count": null,
      "metadata": {
        "id": "H3BC-TiENf-1"
      },
      "outputs": [],
      "source": [
        "df_drop = df.copy()"
      ]
    },
    {
      "cell_type": "code",
      "execution_count": null,
      "metadata": {
        "id": "g1p8iJekNf-1"
      },
      "outputs": [],
      "source": [
        "df_drop.head(2)"
      ]
    },
    {
      "cell_type": "code",
      "execution_count": null,
      "metadata": {
        "id": "wjZUl-MYNf-1"
      },
      "outputs": [],
      "source": [
        "# delete the column 'x'\n",
        "del df_drop['x']"
      ]
    },
    {
      "cell_type": "code",
      "execution_count": null,
      "metadata": {
        "id": "OMEVnbIzNf-1"
      },
      "outputs": [],
      "source": [
        "df_drop"
      ]
    },
    {
      "cell_type": "markdown",
      "metadata": {
        "id": "M_D4b9dyNf-2"
      },
      "source": [
        "## `.drop()`"
      ]
    },
    {
      "cell_type": "markdown",
      "metadata": {
        "id": "q3BfbeizNf-2"
      },
      "source": [
        "Can drop one or more columns.\n",
        "\n",
        "takes `axis` parameter:\n",
        "- axis=0 refers to rows  \n",
        "- axis=1 refers to columns  "
      ]
    },
    {
      "cell_type": "code",
      "execution_count": null,
      "metadata": {
        "id": "GvykrFuCNf-2"
      },
      "outputs": [],
      "source": [
        "df_drop = df_drop.drop(['x_plus_y', 'is_label'], axis=1)"
      ]
    },
    {
      "cell_type": "code",
      "execution_count": null,
      "metadata": {
        "id": "mO4v44-8Nf-2"
      },
      "outputs": [],
      "source": [
        "df_drop"
      ]
    }
  ],
  "metadata": {
    "anaconda-cloud": {},
    "kernelspec": {
      "display_name": "Python 3.8.9 64-bit",
      "language": "python",
      "name": "python3"
    },
    "language_info": {
      "codemirror_mode": {
        "name": "ipython",
        "version": 3
      },
      "file_extension": ".py",
      "mimetype": "text/x-python",
      "name": "python",
      "nbconvert_exporter": "python",
      "pygments_lexer": "ipython3",
      "version": "3.8.9 (default, Jul 19 2021, 09:37:30) \n[Clang 13.0.0 (clang-1300.0.27.3)]"
    },
    "vscode": {
      "interpreter": {
        "hash": "31f2aee4e71d21fbe5cf8b01ff0e069b9275f58929596ceb00d14d90e3e16cd6"
      }
    },
    "colab": {
      "provenance": [],
      "include_colab_link": true
    }
  },
  "nbformat": 4,
  "nbformat_minor": 0
}