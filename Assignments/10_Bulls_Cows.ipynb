{
  "cells": [
    {
      "cell_type": "markdown",
      "metadata": {
        "id": "view-in-github",
        "colab_type": "text"
      },
      "source": [
        "<a href=\"https://colab.research.google.com/github/uwn5qm/DS-1002/blob/main/Assignments/10_Bulls_Cows.ipynb\" target=\"_parent\"><img src=\"https://colab.research.google.com/assets/colab-badge.svg\" alt=\"Open In Colab\"/></a>"
      ]
    },
    {
      "cell_type": "markdown",
      "metadata": {
        "id": "lSwr8T3SNrkj"
      },
      "source": [
        "## Bulls and Cows:\n",
        "### Another guessing game.\n",
        "### Assignment due Wednesday 10 April at 10 am\n",
        "\n",
        "General instructions:\n",
        "\n"
      ]
    },
    {
      "cell_type": "markdown",
      "source": [
        "## COLLABORATORS: Cabell Pasco and Coleman Wray\n"
      ],
      "metadata": {
        "id": "OcIcFRFcG3YF"
      }
    },
    {
      "cell_type": "markdown",
      "source": [
        "### Steps\n",
        "We will build this game using several functions.  \n",
        "\n",
        "1. **Count the Bulls:**  \n",
        "Write a function that takes two lists of the same length, and returns the number of Bulls.  That is, it should return the number of indices where the lists contain the same element.  *(Note:  you don't have to check that the entries are between 1 and 6, or that there are no repeats, etc.  A different function will do that.)*\n",
        "\n",
        "\n"
      ],
      "metadata": {
        "id": "XSH1JULaurD1"
      }
    },
    {
      "cell_type": "code",
      "source": [
        "# (BULLS) Takes two lists of the same length and computes the number of positions where the list entries agree\n",
        "def count_bulls(first, second):\n",
        "\n",
        "  num_bulls = 0\n",
        "  c=0\n",
        "  while c < 4:\n",
        "    if first[c]==second[c]:\n",
        "      num_bulls = num_bulls+1\n",
        "      c=c+1\n",
        "    else:\n",
        "      c=c+1\n",
        "\n",
        "  return num_bulls"
      ],
      "metadata": {
        "id": "vEsRSe8KxlcF"
      },
      "execution_count": null,
      "outputs": []
    },
    {
      "cell_type": "markdown",
      "source": [
        "Add code and/or text chunks below to demonstrate that you have tested your code and that it works correctly."
      ],
      "metadata": {
        "id": "yACJyJtOzE2U"
      }
    },
    {
      "cell_type": "code",
      "source": [
        "# count_bulls check\n",
        "print(count_bulls(\"1234\",\"1234\"))\n",
        "print(count_bulls(\"1234\",\"5678\"))\n",
        "print(count_bulls(\"1234\",\"1256\"))"
      ],
      "metadata": {
        "colab": {
          "base_uri": "https://localhost:8080/"
        },
        "id": "Zd-bsH7LqenR",
        "outputId": "82fa818e-d36e-42da-9335-69b40aff66b7"
      },
      "execution_count": null,
      "outputs": [
        {
          "output_type": "stream",
          "name": "stdout",
          "text": [
            "4\n",
            "0\n",
            "2\n"
          ]
        }
      ]
    },
    {
      "cell_type": "markdown",
      "source": [
        "2. **Count something else:**  \n",
        "To count the cows it will be helpful first to count how many of the elements occur in both strings, without paying attention their positions.\n",
        "Write a function called `count_animals` that takes two lists of the same length, and returns the number of elements of the second list that are also in the first list.  (In the game setting, each such element is either a Bull or a Cow, but don't worry about which is which for this problem.)\n",
        "You may assume the lists do not contain repeated elements, since this will be the case when the function is called in the game.\n"
      ],
      "metadata": {
        "id": "aMsOmejkzNVN"
      }
    },
    {
      "cell_type": "code",
      "source": [
        "# (\"ANIMALS\") Takes two lists of the same length and counts how many elements occur in both, regardless of position\n",
        "def count_animals(first, second):\n",
        "  num_same=0\n",
        "  num_same = [num_same+1 for x in first if x in second]\n",
        "  return len(num_same)"
      ],
      "metadata": {
        "id": "x3dZbJcEtIil"
      },
      "execution_count": null,
      "outputs": []
    },
    {
      "cell_type": "markdown",
      "source": [
        "Again, demonstrate below that you have tested your code and that it works."
      ],
      "metadata": {
        "id": "HXRNwANS2f-4"
      }
    },
    {
      "cell_type": "code",
      "source": [
        "# count_animals testing\n",
        "print(count_animals(\"1234\", \"1235\"))\n",
        "print(count_animals(\"1234\", \"1234\"))\n",
        "print(count_animals(\"12345\", \"67890\"))"
      ],
      "metadata": {
        "colab": {
          "base_uri": "https://localhost:8080/"
        },
        "id": "XOneU-04sunJ",
        "outputId": "3e2d3cd3-0d1e-4ee3-fb94-77468ad41494"
      },
      "execution_count": null,
      "outputs": [
        {
          "output_type": "stream",
          "name": "stdout",
          "text": [
            "3\n",
            "4\n",
            "0\n"
          ]
        }
      ]
    },
    {
      "cell_type": "markdown",
      "source": [
        "3. **Count the cows:**  \n",
        "Write a function called `count_cows` that counts the cows.  \n"
      ],
      "metadata": {
        "id": "x2DAPkxj2GMo"
      }
    },
    {
      "cell_type": "code",
      "source": [
        "# (COWS) Takes two lists of the same length and counts the number of entries which agree but do NOT match in position\n",
        "def count_cows(first, second):\n",
        "  return count_animals(first, second) - count_bulls(first, second)"
      ],
      "metadata": {
        "id": "QnxnaOPI3YZO"
      },
      "execution_count": null,
      "outputs": []
    },
    {
      "cell_type": "code",
      "source": [
        "# count_cows testing\n",
        "print(count_cows(\"1234\",\"1234\"))\n",
        "print(count_cows(\"1234\",\"4321\"))\n",
        "print(count_cows(\"1234\",\"5612\"))"
      ],
      "metadata": {
        "colab": {
          "base_uri": "https://localhost:8080/"
        },
        "id": "VVVzTX8_uU-n",
        "outputId": "78eb887f-9160-45b6-d977-94e5f112f9e5"
      },
      "execution_count": null,
      "outputs": [
        {
          "output_type": "stream",
          "name": "stdout",
          "text": [
            "0\n",
            "4\n",
            "2\n"
          ]
        }
      ]
    },
    {
      "cell_type": "markdown",
      "metadata": {
        "id": "hWQhYDIVYjXr"
      },
      "source": [
        "4. **Create feedback string**  \n",
        "Write a `build_response_str` function that takes three numbers, say `b,c,l`, and outputs a string of total length `l` that consists of `b` B's, followed by `c` C's, and the rest X's (until the total length is `l`)."
      ]
    },
    {
      "cell_type": "code",
      "source": [
        "# User response feedback function to give the \"BCXX\" response\n",
        "def build_response_str (b,c,l):\n",
        "  resp=\"\"\n",
        "  resp += b*\"B\"; resp += c*\"C\"; resp += (l-(b+c))*\"X\"\n",
        "  return resp"
      ],
      "metadata": {
        "id": "GSimWqUsMaPE"
      },
      "execution_count": null,
      "outputs": []
    },
    {
      "cell_type": "markdown",
      "source": [
        "Test your code here."
      ],
      "metadata": {
        "id": "2D14kxTU7ApH"
      }
    },
    {
      "cell_type": "code",
      "source": [
        "# build_response_str testing\n",
        "print(build_response_str(2,2,4))\n",
        "print(build_response_str(3,0,4))\n",
        "print(build_response_str(1,1,5))"
      ],
      "metadata": {
        "colab": {
          "base_uri": "https://localhost:8080/"
        },
        "id": "fpDqw8grvpd4",
        "outputId": "980f6166-c700-43d8-c6ee-5dea7379db40"
      },
      "execution_count": null,
      "outputs": [
        {
          "output_type": "stream",
          "name": "stdout",
          "text": [
            "BBCC\n",
            "BBBX\n",
            "BCXXX\n"
          ]
        }
      ]
    },
    {
      "cell_type": "markdown",
      "metadata": {
        "id": "omzE6sLKwsMC"
      },
      "source": [
        "5.  **Generate feedback for guesses**  \n",
        "Write a function `response(first,second)` that takes two lists of the same length, and outputs a string consisting of some number of B's followed by some number of C's followed by some number of X's, where the numbers correspond to the things we counted above.  That is, if `first` were the secret code in the game and `second` were the user's guess, then we would print one B for each Bull, one C for each Cow, and one X for each Miss. The total output string should have the same length as the input strings."
      ]
    },
    {
      "cell_type": "code",
      "source": [
        "# Complete function to take user input and send user responses to play Bulls/Cows Game\n",
        "def response(first, second):\n",
        "  return build_response_str(count_bulls(first,second), count_cows(first,second), len(first))\n"
      ],
      "metadata": {
        "id": "RD1qq7l783y5"
      },
      "execution_count": null,
      "outputs": []
    },
    {
      "cell_type": "code",
      "source": [
        "# response testing\n",
        "print(response(\"1234\", \"1234\"))\n",
        "print(response(\"1234\", \"1254\"))\n",
        "print(response(\"1234\", \"4551\"))\n",
        "print(response(\"1234\", \"5671\"))\n",
        "print(response(\"12345\", \"67890\"))"
      ],
      "metadata": {
        "colab": {
          "base_uri": "https://localhost:8080/"
        },
        "id": "miUgR0mcw4R1",
        "outputId": "6b627a0a-36c0-4e85-8828-16d63b19fac5"
      },
      "execution_count": null,
      "outputs": [
        {
          "output_type": "stream",
          "name": "stdout",
          "text": [
            "BBBB\n",
            "BBBX\n",
            "CCXX\n",
            "CXXX\n",
            "XXXXX\n"
          ]
        }
      ]
    },
    {
      "cell_type": "markdown",
      "metadata": {
        "id": "LWshNPjPZJdQ"
      },
      "source": [
        "6.  **Choose the secret code**  \n",
        "The `random` package, and specifically the `sample` sub-package, is useful for generating random samples.  Try running the following lines of code several times.\n",
        "\n"
      ]
    },
    {
      "cell_type": "code",
      "source": [
        "from random import sample\n",
        "\n",
        "#function to create the random, 4 digit, no repeats, 1-6, number only code\n",
        "def create_code():\n",
        "  return list(str(x) for x in sample(range(1, 7), 4))  #must cast as str or else int can't be compared to str"
      ],
      "metadata": {
        "id": "OzEZ5BQZ85jV"
      },
      "execution_count": null,
      "outputs": []
    },
    {
      "cell_type": "markdown",
      "source": [
        "What type of object is returned by the `sample` function?\n"
      ],
      "metadata": {
        "id": "N1BOe2Xd-kr4"
      }
    },
    {
      "cell_type": "markdown",
      "source": [
        "Answer: A ***list*** object is returned by the \"sample()\" method"
      ],
      "metadata": {
        "id": "yGZw8xFZ-uN4"
      }
    },
    {
      "cell_type": "markdown",
      "source": [
        "7. **Verify the guess**  \n",
        "Finish writing a function called `get_guess` (started below) to prompt the user for a guess and then make sure the input is valid according to the rules of the game.\n",
        "The prompt is already given.  Note that the `list` command converts the input into a list of characters so that it can be passed to the other functions (which are expecting lists).   \n",
        ">**Alert:  you will likely have to think more about data types before this is all over.**"
      ],
      "metadata": {
        "id": "mbK84TdIAVsO"
      }
    },
    {
      "cell_type": "code",
      "source": [
        "#function to ensure user's inputted guess meets the game criteria\n",
        "def get_guess():\n",
        "   while True:\n",
        "\n",
        "    guess = input(\"Enter your guess:\\n\")\n",
        "\n",
        "    if not guess.isdigit() or \"\\u00B2\" in guess:   #digit only check      # \\u00B2 is the exponent symbol, but is counted as digit in \".isdigit()\"\n",
        "      print(\"No characters, please use only numbers between 1 and 6.\")\n",
        "      continue\n",
        "\n",
        "    guess = list(guess)\n",
        "\n",
        "    if len(guess) != 4:  #length check\n",
        "      print(\"Please enter a 4 digit guess.\")\n",
        "      continue\n",
        "\n",
        "    if not all(1 <= int(dig) <= 6 for dig in guess):  #only 1-6 check\n",
        "      print(\"Please use numbers between 1 and 6.\")\n",
        "      continue\n",
        "\n",
        "    if len(guess) != len(set(guess)):  #repeat check\n",
        "      print(\"Please do not repeat numbers.\")\n",
        "      continue\n",
        "\n",
        "    return guess\n",
        "\n",
        "input_guess = get_guess()\n",
        "print(input_guess)"
      ],
      "metadata": {
        "outputId": "1fa8357e-a303-4255-df7d-b4485d1ff1f5",
        "colab": {
          "base_uri": "https://localhost:8080/"
        },
        "id": "ROzk9G8XASGa"
      },
      "execution_count": null,
      "outputs": [
        {
          "output_type": "stream",
          "name": "stdout",
          "text": [
            "Enter your guess:\n",
            "1234\n",
            "['1', '2', '3', '4']\n"
          ]
        }
      ]
    },
    {
      "cell_type": "markdown",
      "source": [
        "As usual, test your code.  What type of objects are we dealing with here?"
      ],
      "metadata": {
        "id": "PSPYpeZYONf0"
      }
    },
    {
      "cell_type": "code",
      "source": [
        "# get_guess test\n",
        "print(get_guess())\n",
        "print(get_guess())\n",
        "print(get_guess())\n",
        "\n",
        "print(\"the outputs of these are all lists of str\")"
      ],
      "metadata": {
        "id": "ytgf6BfiOPNh",
        "colab": {
          "base_uri": "https://localhost:8080/"
        },
        "outputId": "4c63e31f-812b-4da3-d02f-f6100d256644"
      },
      "execution_count": null,
      "outputs": [
        {
          "output_type": "stream",
          "name": "stdout",
          "text": [
            "Enter your guess:\n",
            "123\n",
            "Please enter a 4 digit guess.\n",
            "Enter your guess:\n",
            "12345\n",
            "Please enter a 4 digit guess.\n",
            "Enter your guess:\n",
            "1234\n",
            "['1', '2', '3', '4']\n",
            "Enter your guess:\n",
            "123r\n",
            "No characters, please use only numbers between 1 and 6.\n",
            "Enter your guess:\n",
            "1123\n",
            "Please do not repeat numbers.\n",
            "Enter your guess:\n",
            "1357\n",
            "Please use numbers between 1 and 6.\n",
            "Enter your guess:\n",
            "1245\n",
            "['1', '2', '4', '5']\n",
            "Enter your guess:\n",
            "w89\n",
            "No characters, please use only numbers between 1 and 6.\n",
            "Enter your guess:\n",
            "1234\n",
            "['1', '2', '3', '4']\n",
            "the outputs of these are all lists of str\n"
          ]
        }
      ]
    },
    {
      "cell_type": "markdown",
      "source": [
        "8. **Put it all together**  \n",
        "Finally, fill in the details of the function `bulls_cows` below so that it will play the game of Bulls and Cows when called.  Note that the function takes no arguments and returns nothing.\n"
      ],
      "metadata": {
        "id": "WdtvUrA4-uzn"
      }
    },
    {
      "cell_type": "code",
      "execution_count": null,
      "metadata": {
        "id": "_u48oidGzRKX"
      },
      "outputs": [],
      "source": [
        "from random import sample\n",
        "\n",
        "def bulls_cows():\n",
        "  '''\n",
        "  This function plays the game \"Bulls and Cows.\"\n",
        "  It takes no arguments and returns nothing.\n",
        "  '''\n",
        "  code = create_code()               #select the code to guess\n",
        "  for i in range(6):                # user gets a maximum of 6 guesses\n",
        "    guess = get_guess()\n",
        "    if code==guess:\n",
        "      print(\"You guessed it!\")\n",
        "      return\n",
        "    print(response(guess,code))\n",
        "  print(f\"You have run out of guesses. The secret code was {code}.\")\n",
        "  return"
      ]
    },
    {
      "cell_type": "markdown",
      "metadata": {
        "id": "NzjqX_9K3OuV"
      },
      "source": [
        "Play the game a few times below.  Make sure it behaves as you think it should!"
      ]
    },
    {
      "cell_type": "code",
      "execution_count": null,
      "metadata": {
        "id": "b-HELV-z3OuW",
        "colab": {
          "base_uri": "https://localhost:8080/"
        },
        "outputId": "587e283e-2ec4-40f3-a836-9e2f70b79f66"
      },
      "outputs": [
        {
          "output_type": "stream",
          "name": "stdout",
          "text": [
            "Enter your guess:\n",
            "1356\n",
            "CCXX\n",
            "Enter your guess:\n",
            "2413\n",
            "BCCX\n",
            "Enter your guess:\n",
            "5613\n",
            "CCXX\n",
            "Enter your guess:\n",
            "4531\n",
            "CCXX\n",
            "Enter your guess:\n",
            "2356\n",
            "BCXX\n",
            "Enter your guess:\n",
            "1256\n",
            "CCCX\n",
            "You have run out of guesses. The secret code was ['2', '1', '6', '4'].\n"
          ]
        }
      ],
      "source": [
        "bulls_cows()"
      ]
    },
    {
      "cell_type": "code",
      "source": [
        "bulls_cows()"
      ],
      "metadata": {
        "id": "inzOdtimDfGU",
        "colab": {
          "base_uri": "https://localhost:8080/"
        },
        "outputId": "02807335-c77c-4c7f-cdcd-5d54bab497f9"
      },
      "execution_count": null,
      "outputs": [
        {
          "output_type": "stream",
          "name": "stdout",
          "text": [
            "Enter your guess:\n",
            "1234\n",
            "CCXX\n",
            "Enter your guess:\n",
            "2345\n",
            "CCCX\n",
            "Enter your guess:\n",
            "5436\n",
            "BCCX\n",
            "Enter your guess:\n",
            "4561\n",
            "CCCX\n",
            "Enter your guess:\n",
            "6524\n",
            "BCCC\n",
            "Enter your guess:\n",
            "x62x\n",
            "No characters, please use only numbers between 1 and 6.\n",
            "Enter your guess:\n",
            "5624\n",
            "CCCC\n",
            "You have run out of guesses. The secret code was ['6', '4', '5', '2'].\n"
          ]
        }
      ]
    },
    {
      "cell_type": "code",
      "source": [
        "bulls_cows()"
      ],
      "metadata": {
        "id": "Eqw-5laFDfkG",
        "colab": {
          "base_uri": "https://localhost:8080/"
        },
        "outputId": "16660832-4c8e-4f52-8bd6-7ca3222ea3de"
      },
      "execution_count": null,
      "outputs": [
        {
          "output_type": "stream",
          "name": "stdout",
          "text": [
            "Enter your guess:\n",
            "12345\n",
            "Please enter a 4 digit guess.\n",
            "Enter your guess:\n",
            "1234\n",
            "CCXX\n",
            "Enter your guess:\n",
            "5612\n",
            "CCCX\n",
            "Enter your guess:\n",
            "2345\n",
            "BCXX\n",
            "Enter your guess:\n",
            "2145\n",
            "BCCX\n",
            "Enter your guess:\n",
            "2222\n",
            "Please do not repeat numbers.\n",
            "Enter your guess:\n",
            "2341\n",
            "BBXX\n",
            "Enter your guess:\n",
            "2364\n",
            "CCXX\n",
            "You have run out of guesses. The secret code was ['6', '5', '4', '1'].\n"
          ]
        }
      ]
    },
    {
      "cell_type": "markdown",
      "source": [
        "9. **Reflect**  \n",
        "Think of at least three ways you could change the rules or setup of the game, and in each case describe (in one sentence, you don't need to write code) what you would have to do to modify your code to play the new version of the game.  Use a text box below for each of your ideas."
      ],
      "metadata": {
        "id": "a58-KCX4ELRO"
      }
    },
    {
      "cell_type": "markdown",
      "source": [
        "(1) The length of the clue could change according to an initial prompt asking for difficulty level, with a longer length meaning a harder difficulty (lengths 3-6). This could be done by adding the initial prompt and also ensuring that that length was able to be transposed replacing anywhere in the code currently limiting the length to 4."
      ],
      "metadata": {
        "id": "Jof2vIZSEfwo"
      }
    },
    {
      "cell_type": "markdown",
      "source": [
        "(2) The range of allowed numbers could be lengthened according to the difficulty as well, starting with 1-3 and then 0-9. This could similarly be done by an initial prompt to the user for 'difficulty level', and then you would have to ensure the range adaptable in each interest to the user input instead of the current \"1-6\"."
      ],
      "metadata": {
        "id": "f2_QlBavEiqW"
      }
    },
    {
      "cell_type": "markdown",
      "source": [
        "(3) You could incorporate characters into the guesses, which would make the game much harder and require you to accept characters as valid inputs for the game. You could do this by changing the clause limiting guesses to only characters, perhaps just letters and not special characters."
      ],
      "metadata": {
        "id": "sqfq2EFpEjZt"
      }
    }
  ],
  "metadata": {
    "colab": {
      "provenance": [],
      "include_colab_link": true
    },
    "kernelspec": {
      "display_name": "Python 3",
      "name": "python3"
    },
    "language_info": {
      "name": "python"
    }
  },
  "nbformat": 4,
  "nbformat_minor": 0
}