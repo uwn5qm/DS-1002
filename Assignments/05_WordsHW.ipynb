{
  "nbformat": 4,
  "nbformat_minor": 0,
  "metadata": {
    "colab": {
      "provenance": [],
      "include_colab_link": true
    },
    "kernelspec": {
      "name": "python3",
      "display_name": "Python 3"
    },
    "language_info": {
      "name": "python"
    }
  },
  "cells": [
    {
      "cell_type": "markdown",
      "metadata": {
        "id": "view-in-github",
        "colab_type": "text"
      },
      "source": [
        "<a href=\"https://colab.research.google.com/github/uwn5qm/DS-1002/blob/main/Assignments/05_WordsHW.ipynb\" target=\"_parent\"><img src=\"https://colab.research.google.com/assets/colab-badge.svg\" alt=\"Open In Colab\"/></a>"
      ]
    },
    {
      "cell_type": "markdown",
      "source": [
        "## Words (an assignment due Weds 28 Feb by noon)\n",
        "\n",
        "There are many word lists available on the internet, of varying size and quality.  You have one on your own computer, actually, which is used by any software that has a spell-check feature.  As you type, the software (Outlook, or Microsoft Word, or whatever) is constantly looking up words to see if they are on the word list, and if not it will alert you that it thinks the word is misspelled.\n",
        "\n",
        "(On a Mac, one such file is located at `/usr/share/dict/web2`.  I'm not sure where to find it on a PC.)\n",
        "\n",
        "For this assignment we will use a word list called `web2` that you can access via a python package called `english_words`.\n",
        "\n"
      ],
      "metadata": {
        "id": "-nyptjTP99WZ"
      }
    },
    {
      "cell_type": "markdown",
      "source": [
        "Collaborators: Cabell Pasco and Coleman Wray"
      ],
      "metadata": {
        "id": "crYTUZ1Ax2GZ"
      }
    },
    {
      "cell_type": "code",
      "source": [
        "!pip install english_words\n",
        "from english_words import get_english_words_set\n",
        "words = get_english_words_set(['web2'], lower=True)\n",
        "\n",
        "#wordlist (1-2)\n",
        "wordlist = list(words)\n",
        "print(\"Number of words in WordList: \", len(wordlist))\n",
        "print(\"First ten words of WordList: \", wordlist[0:10])"
      ],
      "metadata": {
        "colab": {
          "base_uri": "https://localhost:8080/"
        },
        "id": "ILwe46v8Pp64",
        "outputId": "98cc91b5-2df1-4eaa-a245-b33b8657dce9"
      },
      "execution_count": null,
      "outputs": [
        {
          "output_type": "stream",
          "name": "stdout",
          "text": [
            "Collecting english_words\n",
            "  Downloading english-words-2.0.1.tar.gz (8.2 MB)\n",
            "\u001b[2K     \u001b[90m━━━━━━━━━━━━━━━━━━━━━━━━━━━━━━━━━━━━━━━━\u001b[0m \u001b[32m8.2/8.2 MB\u001b[0m \u001b[31m16.8 MB/s\u001b[0m eta \u001b[36m0:00:00\u001b[0m\n",
            "\u001b[?25h  Installing build dependencies ... \u001b[?25l\u001b[?25hdone\n",
            "  Getting requirements to build wheel ... \u001b[?25l\u001b[?25hdone\n",
            "  Preparing metadata (pyproject.toml) ... \u001b[?25l\u001b[?25hdone\n",
            "Building wheels for collected packages: english_words\n",
            "  Building wheel for english_words (pyproject.toml) ... \u001b[?25l\u001b[?25hdone\n",
            "  Created wheel for english_words: filename=english_words-2.0.1-py3-none-any.whl size=8196238 sha256=6a8e3f00a8561ae470c5693c240f14a45eb434bb61a0fe490d0961c2097d19a9\n",
            "  Stored in directory: /root/.cache/pip/wheels/f0/e6/d9/16a123647999fe535f03a36e7af23eef203736d84c7ca25b0b\n",
            "Successfully built english_words\n",
            "Installing collected packages: english_words\n",
            "Successfully installed english_words-2.0.1\n",
            "Number of words in WordList:  234450\n",
            "First ten words of WordList:  ['analyse', 'decapitalization', 'neurosurgeon', 'lynn', 'unsensualized', 'scantling', 'heteromorphae', 'edo', 'paedotrophy', 'psyllium']\n"
          ]
        }
      ]
    },
    {
      "cell_type": "code",
      "source": [
        "#alpha_list - alphabetical wordlist (3)\n",
        "alpha_list = sorted(wordlist)\n",
        "print(\"First ten words of Alpha_List: \", alpha_list[0:10])"
      ],
      "metadata": {
        "colab": {
          "base_uri": "https://localhost:8080/"
        },
        "id": "khjlgkzPdRX8",
        "outputId": "a02717fe-e90a-4bf2-cf1c-6157b1f368ad"
      },
      "execution_count": null,
      "outputs": [
        {
          "output_type": "stream",
          "name": "stdout",
          "text": [
            "First ten words of Alpha_List:  ['a', 'aa', 'aal', 'aalii', 'aam', 'aani', 'aardvark', 'aardwolf', 'aaron', 'aaronic']\n"
          ]
        }
      ]
    },
    {
      "cell_type": "code",
      "source": [
        "#num words starting with a (4)\n",
        "a = 0;\n",
        "while alpha_list[a][0] == \"a\":\n",
        "  a+=1\n",
        "print(\"Number of words starting with 'a': \", a)"
      ],
      "metadata": {
        "colab": {
          "base_uri": "https://localhost:8080/"
        },
        "id": "x_ybIaCsdP9q",
        "outputId": "bbca3180-df07-4ff8-bf9d-07bf978a1c48"
      },
      "execution_count": null,
      "outputs": [
        {
          "output_type": "stream",
          "name": "stdout",
          "text": [
            "Number of words starting with 'a':  16982\n"
          ]
        }
      ]
    },
    {
      "cell_type": "code",
      "source": [
        "#num words with a q / words without an e\n",
        "i = 0; q = 0;\n",
        "while i < len(alpha_list):\n",
        "    if \"q\" in alpha_list[i]:\n",
        "      q+=1\n",
        "    i+=1\n",
        "print(\"Number of words with a 'q': \", q)\n",
        "\n",
        "j = 0; ne = 0;\n",
        "while j < len(alpha_list):\n",
        "    if \"e\" not in alpha_list[j]:\n",
        "      ne+=1\n",
        "    j+=1\n",
        "print(ne, len(alpha_list))\n",
        "print(\"Fraction of words without an 'e': \",ne,\"/\",len(alpha_list),\"(%\",(ne/len(alpha_list)*100),\")\")"
      ],
      "metadata": {
        "colab": {
          "base_uri": "https://localhost:8080/"
        },
        "id": "fb-Mg1t_WI19",
        "outputId": "038fef13-f947-42fb-cae6-8dc62ab8c90c"
      },
      "execution_count": null,
      "outputs": [
        {
          "output_type": "stream",
          "name": "stdout",
          "text": [
            "Number of words with a 'q':  3624\n",
            "76966 234450\n",
            "Fraction of words without an 'e':  76966 / 234450 (% 32.828321603753466 )\n"
          ]
        }
      ]
    },
    {
      "cell_type": "code",
      "source": [
        "#convert to numpy arrays / create a list of the alphabet (6)\n",
        "import numpy as np\n",
        "wordlistnp = np.array(wordlist)\n",
        "alpha_listnp = np.array(alpha_list)\n",
        "\n",
        "alphabet = [chr(i) for i in range(ord('a'),ord('z')+1)]"
      ],
      "metadata": {
        "id": "PrmH5u65UfRZ"
      },
      "execution_count": null,
      "outputs": []
    },
    {
      "cell_type": "code",
      "source": [
        "#gets num of words starting in given letter(7)\n",
        "def numStartingLetter(letter):\n",
        "  count = 0;\n",
        "  for word in alpha_list:\n",
        "    if word[0] == letter:\n",
        "      count+=1\n",
        "  return count\n"
      ],
      "metadata": {
        "id": "QE_glSZNvahQ"
      },
      "execution_count": null,
      "outputs": []
    },
    {
      "cell_type": "code",
      "source": [
        " #creates a 26 item list of number of words starting in each letter(7)\n",
        "numList = []\n",
        "i = 0;\n",
        "while i<26:\n",
        "  numList.append(numStartingLetter(alphabet[i]))\n",
        "  i+=1"
      ],
      "metadata": {
        "id": "w_xK6r7YkP55"
      },
      "execution_count": null,
      "outputs": []
    },
    {
      "cell_type": "code",
      "source": [
        "#bar graph of number of words starting with each letter (7)\n",
        "import matplotlib.pyplot as plt\n",
        "\n",
        "\n",
        "plt.xlabel(\"Starting Letter\")\n",
        "plt.ylabel(\"Num Appearances\")\n",
        "plt.title(\"Number of Words that Start with Each Letter\")\n",
        "\n",
        "\n",
        "plt.bar(alphabet, numList, color = \"gray\", width = .5,edgecolor = \"red\")\n"
      ],
      "metadata": {
        "colab": {
          "base_uri": "https://localhost:8080/",
          "height": 489
        },
        "id": "SgPYvVyPhmdI",
        "outputId": "01d76d2c-1bfa-45ee-e2bc-798412d92873"
      },
      "execution_count": null,
      "outputs": [
        {
          "output_type": "execute_result",
          "data": {
            "text/plain": [
              "<BarContainer object of 26 artists>"
            ]
          },
          "metadata": {},
          "execution_count": 8
        },
        {
          "output_type": "display_data",
          "data": {
            "text/plain": [
              "<Figure size 640x480 with 1 Axes>"
            ],
            "image/png": "[encoded data removed]"
          },
          "metadata": {}
        }
      ]
    },
    {
      "cell_type": "code",
      "source": [],
      "metadata": {
        "id": "M3OhZW8E_xQY"
      },
      "execution_count": null,
      "outputs": []
    },
    {
      "cell_type": "code",
      "source": [
        "#finding the six longest words (8)\n",
        "\n",
        "longWords = sorted(alpha_list, key=len)\n",
        "end = len(longWords)-6\n",
        "\n",
        "print(longWords[end:])\n",
        "print(longWords[:10]) #is this something broken about english_words? it counts 25/26 letters as \"words\" not including a..."
      ],
      "metadata": {
        "colab": {
          "base_uri": "https://localhost:8080/"
        },
        "id": "FbXVaqYFLs2l",
        "outputId": "d527413f-99ac-4277-b5e5-69ee5ad79925"
      },
      "execution_count": null,
      "outputs": [
        {
          "output_type": "stream",
          "name": "stdout",
          "text": [
            "['formaldehydesulphoxylate', 'pathologicopsychological', 'scientificophilosophical', 'tetraiodophenolphthalein', 'thyroparathyroidectomize', 'antidisestablishmentarianism']\n",
            "['a', 'b', 'c', 'd', 'e', 'f', 'g', 'h', 'i', 'j']\n"
          ]
        }
      ]
    },
    {
      "cell_type": "code",
      "source": [
        "#creating a list of word lengths 1-22(9)\n",
        "\n",
        "def numOfEachLength(num):\n",
        "  count = 0;\n",
        "  for word in alpha_list:\n",
        "    if len(word) == num:\n",
        "      count+=1\n",
        "  return count\n"
      ],
      "metadata": {
        "id": "HNcEsHlLQaAm"
      },
      "execution_count": null,
      "outputs": []
    },
    {
      "cell_type": "code",
      "source": [
        "#creates a 22 item list of number of words of each length(9)\n",
        "numListLen = []\n",
        "i = 1;\n",
        "while i<22:\n",
        "  numListLen.append(numOfEachLength(i))\n",
        "  i+=1\n",
        "print(numListLen)"
      ],
      "metadata": {
        "colab": {
          "base_uri": "https://localhost:8080/"
        },
        "id": "QUReXh5tTAzx",
        "outputId": "f22e8a7a-7e88-4c37-ddca-f807fca23fec"
      },
      "execution_count": null,
      "outputs": [
        {
          "output_type": "stream",
          "name": "stdout",
          "text": [
            "[26, 139, 1300, 5006, 9979, 17468, 23723, 29851, 32294, 30828, 25968, 20453, 14925, 9763, 5923, 3376, 1814, 842, 428, 198, 82]\n"
          ]
        }
      ]
    },
    {
      "cell_type": "code",
      "source": [
        "#histogram of frequencies of word lengths (9)\n",
        "plt.xlabel(\"Word Length\")\n",
        "plt.ylabel(\"Frequency\")\n",
        "plt.title(\"Histogram of Word Length Frequency\")\n",
        "\n",
        "wordLengths = [];i = 1\n",
        "while i<=21:\n",
        "  wordLengths.append(i)\n",
        "  i+=1\n",
        "\n",
        "plt.hist(wordLengths, bins=21, weights = numListLen, color='darkblue', edgecolor='orange')\n",
        "plt.xticks(range(0,22))"
      ],
      "metadata": {
        "colab": {
          "base_uri": "https://localhost:8080/",
          "height": 1000
        },
        "id": "YASF_fKpP99j",
        "outputId": "ac5f69b9-8837-481c-f492-97365f7d0512"
      },
      "execution_count": null,
      "outputs": [
        {
          "output_type": "execute_result",
          "data": {
            "text/plain": [
              "([<matplotlib.axis.XTick at 0x7f704c443fd0>,\n",
              "  <matplotlib.axis.XTick at 0x7f704c443fa0>,\n",
              "  <matplotlib.axis.XTick at 0x7f704c443eb0>,\n",
              "  <matplotlib.axis.XTick at 0x7f704c4a24d0>,\n",
              "  <matplotlib.axis.XTick at 0x7f704c4a2f80>,\n",
              "  <matplotlib.axis.XTick at 0x7f704c4a3a30>,\n",
              "  <matplotlib.axis.XTick at 0x7f704c4d8520>,\n",
              "  <matplotlib.axis.XTick at 0x7f704c4a2710>,\n",
              "  <matplotlib.axis.XTick at 0x7f704c4d8f40>,\n",
              "  <matplotlib.axis.XTick at 0x7f704c4d99f0>,\n",
              "  <matplotlib.axis.XTick at 0x7f704c4da4a0>,\n",
              "  <matplotlib.axis.XTick at 0x7f704c4daf50>,\n",
              "  <matplotlib.axis.XTick at 0x7f704c4d95a0>,\n",
              "  <matplotlib.axis.XTick at 0x7f704c4db7c0>,\n",
              "  <matplotlib.axis.XTick at 0x7f704c4f02b0>,\n",
              "  <matplotlib.axis.XTick at 0x7f704c4f0d60>,\n",
              "  <matplotlib.axis.XTick at 0x7f704c4db130>,\n",
              "  <matplotlib.axis.XTick at 0x7f704c4f1660>,\n",
              "  <matplotlib.axis.XTick at 0x7f704c4f2110>,\n",
              "  <matplotlib.axis.XTick at 0x7f704c4f2bc0>,\n",
              "  <matplotlib.axis.XTick at 0x7f704c4f3670>,\n",
              "  <matplotlib.axis.XTick at 0x7f704c4f2500>],\n",
              " [Text(0, 0, '0'),\n",
              "  Text(1, 0, '1'),\n",
              "  Text(2, 0, '2'),\n",
              "  Text(3, 0, '3'),\n",
              "  Text(4, 0, '4'),\n",
              "  Text(5, 0, '5'),\n",
              "  Text(6, 0, '6'),\n",
              "  Text(7, 0, '7'),\n",
              "  Text(8, 0, '8'),\n",
              "  Text(9, 0, '9'),\n",
              "  Text(10, 0, '10'),\n",
              "  Text(11, 0, '11'),\n",
              "  Text(12, 0, '12'),\n",
              "  Text(13, 0, '13'),\n",
              "  Text(14, 0, '14'),\n",
              "  Text(15, 0, '15'),\n",
              "  Text(16, 0, '16'),\n",
              "  Text(17, 0, '17'),\n",
              "  Text(18, 0, '18'),\n",
              "  Text(19, 0, '19'),\n",
              "  Text(20, 0, '20'),\n",
              "  Text(21, 0, '21')])"
            ]
          },
          "metadata": {},
          "execution_count": 12
        },
        {
          "output_type": "display_data",
          "data": {
            "text/plain": [
              "<Figure size 640x480 with 1 Axes>"
            ],
            "image/png": "[encoded data removed]"
          },
          "metadata": {}
        }
      ]
    },
    {
      "cell_type": "code",
      "source": [
        "#most common length of word (9)\n",
        "print(\"The most common length of word is 9\")"
      ],
      "metadata": {
        "colab": {
          "base_uri": "https://localhost:8080/"
        },
        "id": "GNpMRtGNIX1j",
        "outputId": "796e27dd-0201-469e-81bd-11def0829ddc"
      },
      "execution_count": null,
      "outputs": [
        {
          "output_type": "stream",
          "name": "stdout",
          "text": [
            "The most common length of word is 9\n"
          ]
        }
      ]
    },
    {
      "cell_type": "code",
      "source": [
        "#counting num words with v and a / w and l (11)\n",
        "j = 0; both = 0;\n",
        "while j < len(alpha_list):\n",
        "    if \"v\" in alpha_list[j] and \"a\" in alpha_list[j]:\n",
        "      both+=1\n",
        "    j+=1\n",
        "print(both,\" words with 'v' and 'a'\")\n",
        "j = 0; both = 0;\n",
        "\n",
        "while j < len(alpha_list):\n",
        "    if \"w\" in alpha_list[j] and \"l\" in alpha_list[j]:\n",
        "      both+=1\n",
        "    j+=1\n",
        "print(both,\" words with 'w' and 'l'\")\n",
        "\n",
        "# run time 0.803s for both"
      ],
      "metadata": {
        "colab": {
          "base_uri": "https://localhost:8080/"
        },
        "id": "4RzCpaPSN59C",
        "outputId": "b6cf6bf7-7fe0-4935-e875-6f6bbad047c9"
      },
      "execution_count": 21,
      "outputs": [
        {
          "output_type": "stream",
          "name": "stdout",
          "text": [
            "11347  words with 'v' and 'a'\n",
            "4822  words with 'w' and 'l'\n"
          ]
        }
      ]
    },
    {
      "cell_type": "code",
      "source": [
        "#creates doubleList of STR as list of every letter combination (BONUS)\n",
        "\n",
        "first = 0; second = 0; doubleList = []\n",
        "while first<26:\n",
        " while second<26:\n",
        "    doubleList.append(alphabet[first]+\"\"+alphabet[second])\n",
        "    second+=1\n",
        " first+=1\n",
        " second=0\n",
        "\n",
        "print(doubleList)"
      ],
      "metadata": {
        "colab": {
          "base_uri": "https://localhost:8080/"
        },
        "id": "amECkcnIrc10",
        "outputId": "d30cf0a7-4c5e-49ec-9a36-683d90d1688e"
      },
      "execution_count": null,
      "outputs": [
        {
          "output_type": "stream",
          "name": "stdout",
          "text": [
            "['aa', 'ab', 'ac', 'ad', 'ae', 'af', 'ag', 'ah', 'ai', 'aj', 'ak', 'al', 'am', 'an', 'ao', 'ap', 'aq', 'ar', 'as', 'at', 'au', 'av', 'aw', 'ax', 'ay', 'az', 'ba', 'bb', 'bc', 'bd', 'be', 'bf', 'bg', 'bh', 'bi', 'bj', 'bk', 'bl', 'bm', 'bn', 'bo', 'bp', 'bq', 'br', 'bs', 'bt', 'bu', 'bv', 'bw', 'bx', 'by', 'bz', 'ca', 'cb', 'cc', 'cd', 'ce', 'cf', 'cg', 'ch', 'ci', 'cj', 'ck', 'cl', 'cm', 'cn', 'co', 'cp', 'cq', 'cr', 'cs', 'ct', 'cu', 'cv', 'cw', 'cx', 'cy', 'cz', 'da', 'db', 'dc', 'dd', 'de', 'df', 'dg', 'dh', 'di', 'dj', 'dk', 'dl', 'dm', 'dn', 'do', 'dp', 'dq', 'dr', 'ds', 'dt', 'du', 'dv', 'dw', 'dx', 'dy', 'dz', 'ea', 'eb', 'ec', 'ed', 'ee', 'ef', 'eg', 'eh', 'ei', 'ej', 'ek', 'el', 'em', 'en', 'eo', 'ep', 'eq', 'er', 'es', 'et', 'eu', 'ev', 'ew', 'ex', 'ey', 'ez', 'fa', 'fb', 'fc', 'fd', 'fe', 'ff', 'fg', 'fh', 'fi', 'fj', 'fk', 'fl', 'fm', 'fn', 'fo', 'fp', 'fq', 'fr', 'fs', 'ft', 'fu', 'fv', 'fw', 'fx', 'fy', 'fz', 'ga', 'gb', 'gc', 'gd', 'ge', 'gf', 'gg', 'gh', 'gi', 'gj', 'gk', 'gl', 'gm', 'gn', 'go', 'gp', 'gq', 'gr', 'gs', 'gt', 'gu', 'gv', 'gw', 'gx', 'gy', 'gz', 'ha', 'hb', 'hc', 'hd', 'he', 'hf', 'hg', 'hh', 'hi', 'hj', 'hk', 'hl', 'hm', 'hn', 'ho', 'hp', 'hq', 'hr', 'hs', 'ht', 'hu', 'hv', 'hw', 'hx', 'hy', 'hz', 'ia', 'ib', 'ic', 'id', 'ie', 'if', 'ig', 'ih', 'ii', 'ij', 'ik', 'il', 'im', 'in', 'io', 'ip', 'iq', 'ir', 'is', 'it', 'iu', 'iv', 'iw', 'ix', 'iy', 'iz', 'ja', 'jb', 'jc', 'jd', 'je', 'jf', 'jg', 'jh', 'ji', 'jj', 'jk', 'jl', 'jm', 'jn', 'jo', 'jp', 'jq', 'jr', 'js', 'jt', 'ju', 'jv', 'jw', 'jx', 'jy', 'jz', 'ka', 'kb', 'kc', 'kd', 'ke', 'kf', 'kg', 'kh', 'ki', 'kj', 'kk', 'kl', 'km', 'kn', 'ko', 'kp', 'kq', 'kr', 'ks', 'kt', 'ku', 'kv', 'kw', 'kx', 'ky', 'kz', 'la', 'lb', 'lc', 'ld', 'le', 'lf', 'lg', 'lh', 'li', 'lj', 'lk', 'll', 'lm', 'ln', 'lo', 'lp', 'lq', 'lr', 'ls', 'lt', 'lu', 'lv', 'lw', 'lx', 'ly', 'lz', 'ma', 'mb', 'mc', 'md', 'me', 'mf', 'mg', 'mh', 'mi', 'mj', 'mk', 'ml', 'mm', 'mn', 'mo', 'mp', 'mq', 'mr', 'ms', 'mt', 'mu', 'mv', 'mw', 'mx', 'my', 'mz', 'na', 'nb', 'nc', 'nd', 'ne', 'nf', 'ng', 'nh', 'ni', 'nj', 'nk', 'nl', 'nm', 'nn', 'no', 'np', 'nq', 'nr', 'ns', 'nt', 'nu', 'nv', 'nw', 'nx', 'ny', 'nz', 'oa', 'ob', 'oc', 'od', 'oe', 'of', 'og', 'oh', 'oi', 'oj', 'ok', 'ol', 'om', 'on', 'oo', 'op', 'oq', 'or', 'os', 'ot', 'ou', 'ov', 'ow', 'ox', 'oy', 'oz', 'pa', 'pb', 'pc', 'pd', 'pe', 'pf', 'pg', 'ph', 'pi', 'pj', 'pk', 'pl', 'pm', 'pn', 'po', 'pp', 'pq', 'pr', 'ps', 'pt', 'pu', 'pv', 'pw', 'px', 'py', 'pz', 'qa', 'qb', 'qc', 'qd', 'qe', 'qf', 'qg', 'qh', 'qi', 'qj', 'qk', 'ql', 'qm', 'qn', 'qo', 'qp', 'qq', 'qr', 'qs', 'qt', 'qu', 'qv', 'qw', 'qx', 'qy', 'qz', 'ra', 'rb', 'rc', 'rd', 're', 'rf', 'rg', 'rh', 'ri', 'rj', 'rk', 'rl', 'rm', 'rn', 'ro', 'rp', 'rq', 'rr', 'rs', 'rt', 'ru', 'rv', 'rw', 'rx', 'ry', 'rz', 'sa', 'sb', 'sc', 'sd', 'se', 'sf', 'sg', 'sh', 'si', 'sj', 'sk', 'sl', 'sm', 'sn', 'so', 'sp', 'sq', 'sr', 'ss', 'st', 'su', 'sv', 'sw', 'sx', 'sy', 'sz', 'ta', 'tb', 'tc', 'td', 'te', 'tf', 'tg', 'th', 'ti', 'tj', 'tk', 'tl', 'tm', 'tn', 'to', 'tp', 'tq', 'tr', 'ts', 'tt', 'tu', 'tv', 'tw', 'tx', 'ty', 'tz', 'ua', 'ub', 'uc', 'ud', 'ue', 'uf', 'ug', 'uh', 'ui', 'uj', 'uk', 'ul', 'um', 'un', 'uo', 'up', 'uq', 'ur', 'us', 'ut', 'uu', 'uv', 'uw', 'ux', 'uy', 'uz', 'va', 'vb', 'vc', 'vd', 've', 'vf', 'vg', 'vh', 'vi', 'vj', 'vk', 'vl', 'vm', 'vn', 'vo', 'vp', 'vq', 'vr', 'vs', 'vt', 'vu', 'vv', 'vw', 'vx', 'vy', 'vz', 'wa', 'wb', 'wc', 'wd', 'we', 'wf', 'wg', 'wh', 'wi', 'wj', 'wk', 'wl', 'wm', 'wn', 'wo', 'wp', 'wq', 'wr', 'ws', 'wt', 'wu', 'wv', 'ww', 'wx', 'wy', 'wz', 'xa', 'xb', 'xc', 'xd', 'xe', 'xf', 'xg', 'xh', 'xi', 'xj', 'xk', 'xl', 'xm', 'xn', 'xo', 'xp', 'xq', 'xr', 'xs', 'xt', 'xu', 'xv', 'xw', 'xx', 'xy', 'xz', 'ya', 'yb', 'yc', 'yd', 'ye', 'yf', 'yg', 'yh', 'yi', 'yj', 'yk', 'yl', 'ym', 'yn', 'yo', 'yp', 'yq', 'yr', 'ys', 'yt', 'yu', 'yv', 'yw', 'yx', 'yy', 'yz', 'za', 'zb', 'zc', 'zd', 'ze', 'zf', 'zg', 'zh', 'zi', 'zj', 'zk', 'zl', 'zm', 'zn', 'zo', 'zp', 'zq', 'zr', 'zs', 'zt', 'zu', 'zv', 'zw', 'zx', 'zy', 'zz']\n"
          ]
        }
      ]
    },
    {
      "cell_type": "code",
      "source": [
        "#method to get num words containing given letter combination(BONUS)\n",
        "def numWithCombo(pairing):\n",
        "  count = 0;\n",
        "  for word in alpha_list:\n",
        "    if pairing[0]==pairing[1]: #fix to error where double combos (\"ee\") would test positive even for only one occurance of letter\n",
        "      if pairing[0] in word:\n",
        "        word = word.replace(pairing[0],\"\",1)\n",
        "        if pairing[1] in word:\n",
        "          count+=1\n",
        "    elif pairing[0] in word and pairing[1] in word: #separates the 2-letter combo to search for each individually\n",
        "      count+=1\n",
        "  return count"
      ],
      "metadata": {
        "id": "1TzTxvsH6di-"
      },
      "execution_count": null,
      "outputs": []
    },
    {
      "cell_type": "code",
      "source": [
        "#creates a 676 item list of the above INTs, the appearances of each letter combo(BONUS)\n",
        "numComboList = []\n",
        "i = 0;\n",
        "while i<676:\n",
        "  numComboList.append(numWithCombo(doubleList[i]))\n",
        "  i+=1"
      ],
      "metadata": {
        "id": "O3GvXLDoyk7q"
      },
      "execution_count": null,
      "outputs": []
    },
    {
      "cell_type": "code",
      "source": [
        "#prints the letters and appearances of LEAST often letter combo(BONUS)\n",
        "minYNum = min(numComboList)\n",
        "minYIndex = numComboList.index(minYNum)\n",
        "minXLets = doubleList[minYIndex]\n",
        "print(\"The letters\",minXLets,\"are the LEAST common seen together, appearing in\",minYNum,\"words\")\n",
        "\n",
        "#prints the letters and appearances of MOST often letter combo(BONUS)\n",
        "\n",
        "maxYNum = max(numComboList)\n",
        "maxYIndex = numComboList.index(maxYNum)\n",
        "maxXLets = doubleList[maxYIndex]\n",
        "print(\"The letters\",maxXLets,\"are the MOST common seen together, appearing in\",maxYNum,\"words\")"
      ],
      "metadata": {
        "colab": {
          "base_uri": "https://localhost:8080/"
        },
        "id": "rPTAkpT3_zIj",
        "outputId": "b91f4f96-a538-4cb2-f597-ff667a1f1741"
      },
      "execution_count": null,
      "outputs": [
        {
          "output_type": "stream",
          "name": "stdout",
          "text": [
            "The letters xx are the LEAST common seen together, appearing in 28 words\n",
            "The letters ei are the MOST common seen together, appearing in 93254 words\n"
          ]
        }
      ]
    }
  ]
}