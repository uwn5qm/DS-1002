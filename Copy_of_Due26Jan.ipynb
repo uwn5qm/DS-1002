{
  "nbformat": 4,
  "nbformat_minor": 0,
  "metadata": {
    "colab": {
      "provenance": [],
      "include_colab_link": true
    },
    "kernelspec": {
      "name": "python3",
      "display_name": "Python 3"
    },
    "language_info": {
      "name": "python"
    }
  },
  "cells": [
    {
      "cell_type": "markdown",
      "metadata": {
        "id": "view-in-github",
        "colab_type": "text"
      },
      "source": [
        "<a href=\"https://colab.research.google.com/github/uwn5qm/DS-1002/blob/main/Copy_of_Due26Jan.ipynb\" target=\"_parent\"><img src=\"https://colab.research.google.com/assets/colab-badge.svg\" alt=\"Open In Colab\"/></a>"
      ]
    },
    {
      "cell_type": "markdown",
      "source": [
        "\n",
        "# Assignment due 26 Jan\n",
        "\n",
        "\n",
        "\n",
        "---\n",
        "\n",
        "\n",
        "The main purpose of this assignment is to make sure we are exchanging documents effectively.  Once you have opened this notebook in Colab, try to save it (in Colab) and see what happens.  You will have to make your own copy first.  So, do that.  From now on, you will be editing your own copy of the notebook and you can and should save your own work.\n",
        "\n",
        "When it is complete and you are ready to submit it, save a copy to the GitHub repository that you've shared with me (do this using the File drop-down menu).  **When you save to GitHub, there is a checkbox option to include a link to Colab.**  Do this!\n",
        "\n",
        "Then go to your GitHub repository where you will find the .ipynb file saved.  (You may be taken there automatically.)\n",
        "You will see the document inside a frame that is part of the GitHub page. Click the blue \"Open in Colab\" patch at the top of the document.\n",
        "\n",
        "This will open a new tab with the Colab notebook in it.  At this point you probably have two different tabs with the same Colab notebook.  Compare the two urls in your browser.  The new one will start with colab, but it will also have github in it, and some other information.  (It'll also say \"blob\" somewhere, I think.)  **This is the url you should submit to the Canvas site.**\n",
        "\n",
        "Be careful:  don't submit the url from the original Colab tab that you were working in!  That one also starts with colab but it ends with a string of gibberish.  Make sure you submit the appropriate url.\n",
        "\n",
        "\n",
        "---\n",
        "\n"
      ],
      "metadata": {
        "id": "5uwkFIE_YeQu"
      }
    },
    {
      "cell_type": "markdown",
      "source": [
        "So now, on to the rest of the assignment.\n"
      ],
      "metadata": {
        "id": "1RY0gTutaPJg"
      }
    },
    {
      "cell_type": "markdown",
      "source": [
        "First, add a text box below this line, and in it, tell me whether you've read the syllabus."
      ],
      "metadata": {
        "id": "AqHsqNDqYSu4"
      }
    },
    {
      "cell_type": "markdown",
      "source": [
        "I have read the syllabus."
      ],
      "metadata": {
        "id": "jvYcBZJ4JU1y"
      }
    },
    {
      "cell_type": "markdown",
      "source": [
        "Next, add a code chunk below this paragraph.  In the code chunk, define a variable with an integer value and another variable with a string value.  (Remember, an integer is a whole number.)\n",
        "Then, write a line of code that prints the square of the integer (the integer times itself).\n",
        "What happens if you try to add the integer and the string together?"
      ],
      "metadata": {
        "id": "JcO1iMUBYcS6"
      }
    },
    {
      "cell_type": "code",
      "source": [
        "x = 7\n",
        "y = \"5\"\n",
        "print(x**2)\n",
        "x+y"
      ],
      "metadata": {
        "colab": {
          "base_uri": "https://localhost:8080/",
          "height": 232
        },
        "id": "rjNlHfqiJZOo",
        "outputId": "2d91ad52-9c4d-49ae-df0e-9ad515d80773"
      },
      "execution_count": 8,
      "outputs": [
        {
          "output_type": "stream",
          "name": "stdout",
          "text": [
            "49\n"
          ]
        },
        {
          "output_type": "error",
          "ename": "TypeError",
          "evalue": "unsupported operand type(s) for +: 'int' and 'str'",
          "traceback": [
            "\u001b[0;31m---------------------------------------------------------------------------\u001b[0m",
            "\u001b[0;31mTypeError\u001b[0m                                 Traceback (most recent call last)",
            "\u001b[0;32m<ipython-input-8-f65ed14ea74f>\u001b[0m in \u001b[0;36m<cell line: 4>\u001b[0;34m()\u001b[0m\n\u001b[1;32m      2\u001b[0m \u001b[0my\u001b[0m \u001b[0;34m=\u001b[0m \u001b[0;34m\"5\"\u001b[0m\u001b[0;34m\u001b[0m\u001b[0;34m\u001b[0m\u001b[0m\n\u001b[1;32m      3\u001b[0m \u001b[0mprint\u001b[0m\u001b[0;34m(\u001b[0m\u001b[0mx\u001b[0m\u001b[0;34m**\u001b[0m\u001b[0;36m2\u001b[0m\u001b[0;34m)\u001b[0m\u001b[0;34m\u001b[0m\u001b[0;34m\u001b[0m\u001b[0m\n\u001b[0;32m----> 4\u001b[0;31m \u001b[0mx\u001b[0m\u001b[0;34m+\u001b[0m\u001b[0my\u001b[0m\u001b[0;34m\u001b[0m\u001b[0;34m\u001b[0m\u001b[0m\n\u001b[0m",
            "\u001b[0;31mTypeError\u001b[0m: unsupported operand type(s) for +: 'int' and 'str'"
          ]
        }
      ]
    },
    {
      "cell_type": "markdown",
      "source": [
        "You can't add a string to an integer in python."
      ],
      "metadata": {
        "id": "FhqaTBSkKFRI"
      }
    },
    {
      "cell_type": "markdown",
      "source": [
        "Finally, in the empty code chunk below, define a new variable whose value is a list with four entries, not all of the same type.\n",
        "\n",
        "Write a line of code that prints out the data type of the final item on your list."
      ],
      "metadata": {
        "id": "kMV9WLhAbIB3"
      }
    },
    {
      "cell_type": "code",
      "source": [
        "tacoma = \"toyota\"\n",
        "list1 = [10, tacoma, \"truck\", \"ranger\"]\n",
        "type(\"ranger\")"
      ],
      "metadata": {
        "id": "gcQdOoY9Ybdu",
        "colab": {
          "base_uri": "https://localhost:8080/"
        },
        "outputId": "4ee04c58-16d2-48c8-8a68-195ff1096fbf"
      },
      "execution_count": 24,
      "outputs": [
        {
          "output_type": "execute_result",
          "data": {
            "text/plain": [
              "str"
            ]
          },
          "metadata": {},
          "execution_count": 24
        }
      ]
    }
  ]
}