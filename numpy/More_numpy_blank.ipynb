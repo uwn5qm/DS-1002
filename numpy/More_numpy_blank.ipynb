{
  "nbformat": 4,
  "nbformat_minor": 0,
  "metadata": {
    "colab": {
      "provenance": [],
      "include_colab_link": true
    },
    "kernelspec": {
      "name": "python3",
      "display_name": "Python 3"
    },
    "language_info": {
      "name": "python"
    }
  },
  "cells": [
    {
      "cell_type": "markdown",
      "metadata": {
        "id": "view-in-github",
        "colab_type": "text"
      },
      "source": [
        "<a href=\"https://colab.research.google.com/github/uwn5qm/DS-1002/blob/main/numpy/More_numpy_blank.ipynb\" target=\"_parent\"><img src=\"https://colab.research.google.com/assets/colab-badge.svg\" alt=\"Open In Colab\"/></a>"
      ]
    },
    {
      "cell_type": "markdown",
      "source": [
        "### More NumPy\n",
        "### DS 1002: Programming for Data Science\n",
        "---  \n",
        "\n",
        "\n",
        "### SOURCES\n",
        "- https://numpy.org/\n",
        "- https://en.wikipedia.org/wiki/NumPy\n",
        "- https://www.scipy.org/\n",
        "- https://en.wikipedia.org/wiki/SciPy\n",
        "- https://numpy.org/doc/stable/reference/generated/numpy.ndarray.html\n",
        "- https://docs.scipy.org/doc/numpy-1.15.1/reference/generated/numpy.random.randint.html\n",
        "\n",
        "### OBJECTIVES\n",
        "- Introduction to Numpy\n",
        "\n",
        "### CONCEPTS\n",
        "- The numpy package contains useful functions for math operations\n",
        "- The ndarray is the workhorse of the package"
      ],
      "metadata": {
        "id": "mXD9ihv6JzKT"
      }
    },
    {
      "cell_type": "code",
      "source": [
        "import numpy as np"
      ],
      "metadata": {
        "id": "pbPmL-iWBAX-"
      },
      "execution_count": 1,
      "outputs": []
    },
    {
      "cell_type": "markdown",
      "source": [
        "### Constant arrays"
      ],
      "metadata": {
        "id": "wAX7yl2CKLBm"
      }
    },
    {
      "cell_type": "code",
      "execution_count": 7,
      "metadata": {
        "id": "yI1i_jInA5Ke",
        "outputId": "f6805aec-b118-451c-b86b-ebc2af138348",
        "colab": {
          "base_uri": "https://localhost:8080/"
        }
      },
      "outputs": [
        {
          "output_type": "stream",
          "name": "stdout",
          "text": [
            "[[17 17 17 17]\n",
            " [17 17 17 17]]\n"
          ]
        }
      ],
      "source": [
        "# Create an array of zeros with three rows and two columns\n",
        "#zero_array = np.zeros((3, 2))\n",
        "#print(zero_array)\n",
        "\n",
        "# or of ones\n",
        "#one_array = np.ones((2,3))\n",
        "#print(one_array)\n",
        "\n",
        "# or of anything\n",
        "constant_array = np.full((2,4),17)\n",
        "print(constant_array)\n",
        "\n",
        "# mimic the size of an existing array\n",
        "#x = np.zeros_like(constant_array)\n",
        "#print(x)\n"
      ]
    },
    {
      "cell_type": "markdown",
      "source": [
        "### Making copies\n",
        "\n",
        "is tricky and takes some getting used to!"
      ],
      "metadata": {
        "id": "WMp4Vh4gKeNB"
      }
    },
    {
      "cell_type": "code",
      "source": [
        "# copying values:  this is tricky!\n",
        "zero_array = np.zeros((2,5))\n",
        "print(zero_array)\n",
        "\n",
        "new_array = zero_array\n",
        "\n",
        "new_array[1,1] = 17\n",
        "\n",
        "print(new_array)\n",
        "print(zero_array)\n",
        "print(new_array == zero_array)\n",
        "\n",
        "\n",
        "print(\"\\n \\n\")\n",
        "\n",
        "# compare with the following\n",
        "z_array = np.zeros((2,5))\n",
        "print(z_array)\n",
        "n_array = np.copy(z_array)\n",
        "n_array[1,1] = 17\n",
        "print(z_array)\n",
        "\n",
        "print(n_array == z_array)\n",
        "# copy function makes a copy you can change while preserving original"
      ],
      "metadata": {
        "id": "C9GH9A8iBfzs",
        "outputId": "ea033c92-5c26-4f2d-d2e4-4ce56bccf59a",
        "colab": {
          "base_uri": "https://localhost:8080/"
        }
      },
      "execution_count": 9,
      "outputs": [
        {
          "output_type": "stream",
          "name": "stdout",
          "text": [
            "[[0. 0. 0. 0. 0.]\n",
            " [0. 0. 0. 0. 0.]]\n",
            "[[ 0.  0.  0.  0.  0.]\n",
            " [ 0. 17.  0.  0.  0.]]\n",
            "[[ 0.  0.  0.  0.  0.]\n",
            " [ 0. 17.  0.  0.  0.]]\n",
            "[[ True  True  True  True  True]\n",
            " [ True  True  True  True  True]]\n",
            "\n",
            " \n",
            "\n",
            "[[0. 0. 0. 0. 0.]\n",
            " [0. 0. 0. 0. 0.]]\n",
            "[[0. 0. 0. 0. 0.]\n",
            " [0. 0. 0. 0. 0.]]\n",
            "[[ True  True  True  True  True]\n",
            " [ True False  True  True  True]]\n"
          ]
        }
      ]
    },
    {
      "cell_type": "markdown",
      "source": [
        "### Broadcasting values"
      ],
      "metadata": {
        "id": "S3BZ10TuKtHL"
      }
    },
    {
      "cell_type": "code",
      "source": [
        "x_array = np.random.randint(0,100,(5,5))\n",
        "print(x_array , \"\\n\")\n",
        "x_array[:,3] = 17\n",
        "print(x_array)\n"
      ],
      "metadata": {
        "id": "nVPOMJUlKu39",
        "outputId": "259f3bd9-d1dd-4e3f-aae5-84cada883884",
        "colab": {
          "base_uri": "https://localhost:8080/"
        }
      },
      "execution_count": 10,
      "outputs": [
        {
          "output_type": "stream",
          "name": "stdout",
          "text": [
            "[[65 26 58 17 32]\n",
            " [69 41 38 52 51]\n",
            " [15 50 52 35 90]\n",
            " [14 19 86 85 67]\n",
            " [57 68 69 85 32]] \n",
            "\n",
            "[[65 26 58 17 32]\n",
            " [69 41 38 17 51]\n",
            " [15 50 52 17 90]\n",
            " [14 19 86 17 67]\n",
            " [57 68 69 17 32]]\n"
          ]
        }
      ]
    },
    {
      "cell_type": "markdown",
      "source": [
        "### Some array manipulations"
      ],
      "metadata": {
        "id": "OPJDjkwGLA6C"
      }
    },
    {
      "cell_type": "code",
      "source": [
        "# some basic manipulations\n",
        "\n",
        "# Start with a basic two-dimensional array:\n",
        "foo = np.array([[1,2,3,4,5],[6,7,8,9,10]])\n",
        "\n",
        "# flip - reverse the data of an array\n",
        "oof = np.flip(foo)\n",
        "print(oof)\n",
        "\n",
        "# copy - copy an array to an entirely separate array\n",
        "goo = np.copy(foo)\n",
        "print(goo)\n",
        "\n",
        "# concatenate - combine all elements within an array into a single list\n",
        "new_foo = np.concatenate(foo)\n",
        "print(new_foo)\n",
        "\n",
        "# min\n",
        "foomin = np.min(foo)\n",
        "print(foomin)\n",
        "\n",
        "# max\n",
        "foomax = np.max(foo)\n",
        "print(foomax)\n",
        "\n",
        "# mean\n",
        "foomean = np.mean(foo)\n",
        "print(foomean)\n",
        "\n",
        "# sin/cos/tan\n",
        "foosin = np.sin(foo)\n",
        "print(foosin)\n",
        "\n",
        "# standard deviation\n",
        "foostd = np.std(foo)\n",
        "print(foostd)"
      ],
      "metadata": {
        "id": "ZqZ6Y2RYBxuq",
        "outputId": "65345d9c-be78-49e6-8e3b-9d8dce9d8a74",
        "colab": {
          "base_uri": "https://localhost:8080/"
        }
      },
      "execution_count": 11,
      "outputs": [
        {
          "output_type": "stream",
          "name": "stdout",
          "text": [
            "[[10  9  8  7  6]\n",
            " [ 5  4  3  2  1]]\n",
            "[[ 1  2  3  4  5]\n",
            " [ 6  7  8  9 10]]\n",
            "[ 1  2  3  4  5  6  7  8  9 10]\n",
            "1\n",
            "10\n",
            "5.5\n",
            "[[ 0.84147098  0.90929743  0.14112001 -0.7568025  -0.95892427]\n",
            " [-0.2794155   0.6569866   0.98935825  0.41211849 -0.54402111]]\n",
            "2.8722813232690143\n"
          ]
        }
      ]
    },
    {
      "cell_type": "markdown",
      "source": [
        "### Inserting + Dropping Array Values\n",
        "\n",
        "There are times it's useful to drop a specific index or the start/end of an array of values."
      ],
      "metadata": {
        "id": "c-2Y-CrpEl0k"
      }
    },
    {
      "cell_type": "code",
      "source": [
        "# Drop the first item\n",
        "\n",
        "myarr = np.array([10,15,20,25,30,35,40,45,50])\n",
        "\n",
        "drop_start = myarr[1:]\n",
        "print(drop_start)"
      ],
      "metadata": {
        "id": "JHuM3bDzEqTh",
        "outputId": "2d86a601-c8f9-46a8-b5db-3acf07bba755",
        "colab": {
          "base_uri": "https://localhost:8080/"
        }
      },
      "execution_count": 12,
      "outputs": [
        {
          "output_type": "stream",
          "name": "stdout",
          "text": [
            "[15 20 25 30 35 40 45 50]\n"
          ]
        }
      ]
    },
    {
      "cell_type": "code",
      "source": [
        "# Drop the last item\n",
        "\n",
        "drop_end = myarr[:-1]\n",
        "print(drop_end)"
      ],
      "metadata": {
        "id": "yOy-fXNjFxrT"
      },
      "execution_count": null,
      "outputs": []
    },
    {
      "cell_type": "code",
      "source": [
        "# Drop a specific index\n",
        "\n",
        "drop_second_index = np.delete(myarr, 2)\n",
        "print(drop_second_index)"
      ],
      "metadata": {
        "id": "jLSxG43GF0-R"
      },
      "execution_count": null,
      "outputs": []
    },
    {
      "cell_type": "code",
      "source": [
        "# Drop every other item in the array\n",
        "# Removes every other item starting with 0\n",
        "\n",
        "every_other = np.delete(myarr, np.arange(0, len(myarr), 2))\n",
        "print(every_other)\n",
        "\n",
        "# Another version that removes every other starting with 1\n",
        "every_other = np.delete(myarr, np.arange(0, len(myarr), 2))\n",
        "print(every_other)"
      ],
      "metadata": {
        "id": "eKlRMSolF4j7"
      },
      "execution_count": null,
      "outputs": []
    },
    {
      "cell_type": "code",
      "source": [
        "arr2d = np.array([[1, 2, 3], [4, 5, 6], [7, 8, 9]])\n",
        "arr2d"
      ],
      "metadata": {
        "id": "fj6h0DniF7nk",
        "outputId": "3bd28f4c-a176-476d-800e-d43853bb2eb7",
        "colab": {
          "base_uri": "https://localhost:8080/"
        }
      },
      "execution_count": 13,
      "outputs": [
        {
          "output_type": "execute_result",
          "data": {
            "text/plain": [
              "array([[1, 2, 3],\n",
              "       [4, 5, 6],\n",
              "       [7, 8, 9]])"
            ]
          },
          "metadata": {},
          "execution_count": 13
        }
      ]
    },
    {
      "cell_type": "code",
      "source": [
        "arr2d[2]"
      ],
      "metadata": {
        "id": "c5ZrGf2eGNZQ",
        "outputId": "dc2abc73-e441-497d-fac6-5c94cb934e11",
        "colab": {
          "base_uri": "https://localhost:8080/"
        }
      },
      "execution_count": 14,
      "outputs": [
        {
          "output_type": "execute_result",
          "data": {
            "text/plain": [
              "array([7, 8, 9])"
            ]
          },
          "metadata": {},
          "execution_count": 14
        }
      ]
    },
    {
      "cell_type": "code",
      "source": [
        "# Simplified notation\n",
        "arr2d[0][2]\n",
        "arr2d[0, 2]\n"
      ],
      "metadata": {
        "id": "YsnFcXiZGN8P",
        "outputId": "ec713717-b8d7-42b5-dbc9-a487666425e4",
        "colab": {
          "base_uri": "https://localhost:8080/"
        }
      },
      "execution_count": 16,
      "outputs": [
        {
          "output_type": "execute_result",
          "data": {
            "text/plain": [
              "3"
            ]
          },
          "metadata": {},
          "execution_count": 16
        }
      ]
    },
    {
      "cell_type": "markdown",
      "source": [
        "A nice visual of a 2D array\n",
        "\n",
        "<img src=\"https://learning.oreilly.com/api/v2/epubs/\n",
        "urn:orm:book:9781449323592/files/\n",
        "httpatomoreillycomsourceoreillyimages2172112.png\" height=\"50%\" width=\"50%\"/>"
      ],
      "metadata": {
        "id": "rqJxGlUIG0Mz"
      }
    },
    {
      "cell_type": "markdown",
      "source": [
        "**Two-Dimensional Array Slicing**\n",
        "\n",
        "<img src=\"https://learning.oreilly.com/api/v2/epubs/urn:orm:book:9781449323592/files/httpatomoreillycomsourceoreillyimages2172114.png\" height=\"50%\" width=\"50%\"/>"
      ],
      "metadata": {
        "id": "nmpAjq8mG-yN"
      }
    },
    {
      "cell_type": "markdown",
      "source": [
        "### Student Exercises\n",
        "\n",
        "* Convert `sudoku_game` into a NumPy array called `sudoku_array`.  \n",
        "* Print the class `type()` of `sudoku_array` to check that your code has worked properly.\n"
      ],
      "metadata": {
        "id": "OUOFrGdOHaoK"
      }
    },
    {
      "cell_type": "code",
      "source": [
        "# sudoku_game is Python list containing a sudoku game\n",
        "\n",
        "sudoku_game = [[0, 0, 4, 3, 0, 0, 2, 0, 9],\n",
        "               [0, 0, 5, 0, 0, 9, 0, 0, 1],\n",
        "               [0, 7, 0, 0, 6, 0, 0, 4, 3],\n",
        "               [0, 0, 6, 0, 0, 2, 0, 8, 7],\n",
        "               [1, 9, 0, 0, 0, 7, 4, 0, 0],\n",
        "               [0, 5, 0, 0, 8, 3, 0, 0, 0],\n",
        "               [6, 0, 0, 0, 0, 0, 1, 0, 5],\n",
        "               [0, 0, 3, 5, 0, 8, 6, 9, 0],\n",
        "               [0, 4, 2, 9, 1, 0, 3, 0, 0]]"
      ],
      "metadata": {
        "id": "iS3dyZzVHbb2"
      },
      "execution_count": 18,
      "outputs": []
    },
    {
      "cell_type": "code",
      "source": [
        "sudoku_array = np.array(sudoku_game)\n",
        "type(sudoku_array)"
      ],
      "metadata": {
        "id": "wNiWXu4fHf-R",
        "outputId": "d522a958-c096-4435-8d6e-0dd8fc3affb8",
        "colab": {
          "base_uri": "https://localhost:8080/"
        }
      },
      "execution_count": 23,
      "outputs": [
        {
          "output_type": "execute_result",
          "data": {
            "text/plain": [
              "numpy.ndarray"
            ]
          },
          "metadata": {},
          "execution_count": 23
        }
      ]
    },
    {
      "cell_type": "markdown",
      "source": [
        "Create and print an array filled with zeros called `zero_array`, which has two rows and four columns."
      ],
      "metadata": {
        "id": "QBp0wbQSHyKm"
      }
    },
    {
      "cell_type": "code",
      "source": [
        "zero_array = np.zeros((2,4))\n",
        "print(zero_array)"
      ],
      "metadata": {
        "id": "S_IMFzDyHy4L",
        "outputId": "3c209f58-b8d2-493f-e38b-9786fa8bae2e",
        "colab": {
          "base_uri": "https://localhost:8080/"
        }
      },
      "execution_count": 27,
      "outputs": [
        {
          "output_type": "stream",
          "name": "stdout",
          "text": [
            "[[0. 0. 0. 0.]\n",
            " [0. 0. 0. 0.]]\n"
          ]
        }
      ]
    },
    {
      "cell_type": "markdown",
      "source": [
        "Create and print an array of random floats between 0 and 1 called `random_array`, which has three rows and six columns.\n",
        "\n"
      ],
      "metadata": {
        "id": "eLZUMyLoHzWe"
      }
    },
    {
      "cell_type": "code",
      "source": [
        "random_array = np.random.uniform(0,1, size=(3,6))\n",
        "print(random_array)"
      ],
      "metadata": {
        "id": "DIjIJcIkH2gF",
        "outputId": "b761f094-9a8d-4fca-c1a4-241da7130a44",
        "colab": {
          "base_uri": "https://localhost:8080/"
        }
      },
      "execution_count": 40,
      "outputs": [
        {
          "output_type": "stream",
          "name": "stdout",
          "text": [
            "[[0.16915043 0.17768192 0.77977676 0.81087484 0.92123602 0.98771396]\n",
            " [0.18092545 0.70388214 0.9478245  0.70316413 0.69452599 0.61317435]\n",
            " [0.88622025 0.68542383 0.27317001 0.64010038 0.60905137 0.22496602]]\n"
          ]
        }
      ]
    },
    {
      "cell_type": "markdown",
      "source": [
        "Your next task is to create a scatter plot with the values from `doubling_array` on the y-axis.  \n",
        "\n",
        "A scatter plot can be created (and shown) using the following functions from the package `matplotlib.pyplot` (shown here aliased as `plt`):  \n",
        "\n",
        "`plt.scatter(x_values, y_values)`\n",
        "\n",
        "`plt.show()`"
      ],
      "metadata": {
        "id": "yGsi1gotH29g"
      }
    },
    {
      "cell_type": "code",
      "source": [
        "doubling_array = np.array([1, 2, 4, 8, 16, 32, 64, 128, 256, 512])"
      ],
      "metadata": {
        "id": "1L-S-c4dIOuy"
      },
      "execution_count": 41,
      "outputs": []
    },
    {
      "cell_type": "markdown",
      "source": [
        "* Using `np.arange()`, create a 1D array called `one_to_ten` which holds all integers from one to ten (inclusive).  \n",
        "\n",
        "* Create a scatterplot with `doubling_array` as the y values and `one_to_ten` as the x values.  "
      ],
      "metadata": {
        "id": "4fU6PPs4Ie9G"
      }
    },
    {
      "cell_type": "code",
      "source": [
        "one_to_ten = np.arange(1,11)\n",
        "import matplotlib.pyplot as plt\n",
        "plt.scatter(one_to_ten, doubling_array)"
      ],
      "metadata": {
        "id": "DzFmUk_1g5Jg",
        "outputId": "e0925850-fb0e-493f-d717-dfad41f2ecf8",
        "colab": {
          "base_uri": "https://localhost:8080/",
          "height": 448
        }
      },
      "execution_count": 47,
      "outputs": [
        {
          "output_type": "execute_result",
          "data": {
            "text/plain": [
              "<matplotlib.collections.PathCollection at 0x7af692618a60>"
            ]
          },
          "metadata": {},
          "execution_count": 47
        },
        {
          "output_type": "display_data",
          "data": {
            "text/plain": [
              "<Figure size 640x480 with 1 Axes>"
            ],
            "image/png": "[encoded data removed]"
          },
          "metadata": {}
        }
      ]
    },
    {
      "cell_type": "markdown",
      "source": [
        "Earlier you created a `sudoku_game` two-dimensional NumPy array. Perhaps you have hundreds of sudoku game arrays, and you'd like to save the solution for this one, `sudoku_solution`, as part of the same array as its corresponding game in order to organize your sudoku data better. You could accomplish this by stacking the two 2D arrays on top of each other to create a 3D array."
      ],
      "metadata": {
        "id": "51DOwEt5ItzF"
      }
    },
    {
      "cell_type": "code",
      "source": [
        "sudoku_solution = [[8, 6, 4, 3, 7, 1, 2, 5, 9],\n",
        "                   [3, 2, 5, 8, 4, 9, 7, 6, 1],\n",
        "                   [9, 7, 1, 2, 6, 5, 8, 4, 3],\n",
        "                   [4, 3, 6, 1, 9, 2, 5, 8, 7],\n",
        "                   [1, 9, 8, 6, 5, 7, 4, 3, 2],\n",
        "                   [2, 5, 7, 4, 8, 3, 9, 1, 6],\n",
        "                   [6, 8, 9, 7, 3, 4, 1, 2, 5],\n",
        "                   [7, 1, 3, 5, 2, 8, 6, 9, 4],\n",
        "                   [5, 4, 2, 9, 1, 6, 3, 7, 8]]\n"
      ],
      "metadata": {
        "id": "g09WkBUPI2TK"
      },
      "execution_count": 49,
      "outputs": []
    },
    {
      "cell_type": "markdown",
      "source": [
        "* Create a 3D array called `game_and_solution` by stacking the two 2D arrays, created from `sudoku_game` and `sudoku_solution`, on top of one another; in the final array, `sudoku_game` should appear before `sudoku_solution`.  \n",
        "\n",
        "* Print `game_and_solution`."
      ],
      "metadata": {
        "id": "48tNWEf9I3UH"
      }
    },
    {
      "cell_type": "code",
      "source": [
        "game_and_solution = np.stack((sudoku_game, sudoku_solution), axis=0)"
      ],
      "metadata": {
        "id": "WsJo0S6dJBR3",
        "outputId": "08d9cc1c-c3e5-4b7f-f574-f684124435b8",
        "colab": {
          "base_uri": "https://localhost:8080/"
        }
      },
      "execution_count": 51,
      "outputs": [
        {
          "output_type": "stream",
          "name": "stdout",
          "text": [
            "[[[0 0 4 3 0 0 2 0 9]\n",
            "  [0 0 5 0 0 9 0 0 1]\n",
            "  [0 7 0 0 6 0 0 4 3]\n",
            "  [0 0 6 0 0 2 0 8 7]\n",
            "  [1 9 0 0 0 7 4 0 0]\n",
            "  [0 5 0 0 8 3 0 0 0]\n",
            "  [6 0 0 0 0 0 1 0 5]\n",
            "  [0 0 3 5 0 8 6 9 0]\n",
            "  [0 4 2 9 1 0 3 0 0]]\n",
            "\n",
            " [[8 6 4 3 7 1 2 5 9]\n",
            "  [3 2 5 8 4 9 7 6 1]\n",
            "  [9 7 1 2 6 5 8 4 3]\n",
            "  [4 3 6 1 9 2 5 8 7]\n",
            "  [1 9 8 6 5 7 4 3 2]\n",
            "  [2 5 7 4 8 3 9 1 6]\n",
            "  [6 8 9 7 3 4 1 2 5]\n",
            "  [7 1 3 5 2 8 6 9 4]\n",
            "  [5 4 2 9 1 6 3 7 8]]]\n"
          ]
        }
      ]
    },
    {
      "cell_type": "markdown",
      "source": [
        "* Create another 3D array called `new_game_and_solution` with a different 2D game and 2D solution pair: `new_sudoku_game` and `new_sudoku_solution` (below). `new_sudoku_game` should appear before `new_sudoku_solution`.   \n",
        "\n",
        "* Create a 4D array called `games_and_solutions` by making an array out of the two 3D arrays: `game_and_solution` and `new_game_and_solution`, in that order.  \n",
        "\n",
        "* Print the shape of `games_and_solutions`  "
      ],
      "metadata": {
        "id": "CSxRhh6TJBwn"
      }
    },
    {
      "cell_type": "code",
      "source": [
        "new_sudoku_game = [[0, 0, 4, 3, 0, 0, 0, 0, 0],\n",
        "                   [8, 9, 0, 2, 0, 0, 6, 7, 0],\n",
        "                   [7, 0, 0, 9, 0, 0, 0, 5, 0],\n",
        "                   [5, 0, 0, 0, 0, 8, 1, 4, 0],\n",
        "                   [0, 7, 0, 0, 3, 2, 0, 6, 0],\n",
        "                   [6, 0, 0, 0, 0, 1, 3, 0, 8],\n",
        "                   [0, 0, 1, 7, 5, 0, 9, 0, 0],\n",
        "                   [0, 0, 5, 0, 4, 0, 0, 1, 2],\n",
        "                   [9, 8, 0, 0, 0, 6, 0, 0, 5]]\n",
        "\n",
        "new_sudoku_solution = [[2, 5, 4, 3, 6, 7, 8, 9, 1],\n",
        "                       [8, 9, 3, 2, 1, 5, 6, 7, 4],\n",
        "                       [7, 1, 6, 9, 8, 4, 2, 5, 3],\n",
        "                       [5, 3, 2, 6, 9, 8, 1, 4, 7],\n",
        "                       [1, 7, 8, 4, 3, 2, 5, 6, 9],\n",
        "                       [6, 4, 9, 5, 7, 1, 3, 2, 8],\n",
        "                       [4, 2, 1, 7, 5, 3, 9, 8, 6],\n",
        "                       [3, 6, 5, 8, 4, 9, 7, 1, 2],\n",
        "                       [9, 8, 7, 1, 2, 6, 4, 3, 5]]"
      ],
      "metadata": {
        "id": "izVKZ7PQJCfG"
      },
      "execution_count": 53,
      "outputs": []
    },
    {
      "cell_type": "code",
      "source": [
        "#1\n",
        "new_game_and_solution = np.stack((new_sudoku_game,new_sudoku_solution), axis=0)\n",
        "#2\n",
        "games_and_solutions = np.stack((game_and_solution, new_game_and_solution), axis=0)\n",
        "print(games_and_solutions.shape)"
      ],
      "metadata": {
        "id": "kzny1zWTMXLs",
        "outputId": "1071a448-c4c1-433b-f1df-bda5f6476d0b",
        "colab": {
          "base_uri": "https://localhost:8080/"
        }
      },
      "execution_count": 56,
      "outputs": [
        {
          "output_type": "stream",
          "name": "stdout",
          "text": [
            "(2, 2, 9, 9)\n"
          ]
        }
      ]
    },
    {
      "cell_type": "markdown",
      "source": [
        "* Flatten `sudoku_game` so that it is a 1D array, and save it as `flattened_game`.  \n",
        "\n",
        "* Print the `.shape` of `flattened_game`.\n",
        "\n",
        "* Hint: look up the documentation on `.flatten`."
      ],
      "metadata": {
        "id": "IVM9bCnAJLdk"
      }
    },
    {
      "cell_type": "code",
      "source": [
        "flattened_game = sudoku_array.flatten('C')\n",
        "print(sudoku_array.shape)"
      ],
      "metadata": {
        "id": "jgO3JpoJJMfc",
        "outputId": "fb83dfe1-e3a6-4d66-8ff8-7af12ab8de36",
        "colab": {
          "base_uri": "https://localhost:8080/"
        }
      },
      "execution_count": 63,
      "outputs": [
        {
          "output_type": "stream",
          "name": "stdout",
          "text": [
            "(9, 9)\n"
          ]
        }
      ]
    },
    {
      "cell_type": "markdown",
      "source": [
        "* Reshape the `flattened_game` back to its original shape of nine rows and nine columns; save the new array as `reshaped_game`.  \n",
        "\n",
        "* Look up documenation on `.reshape`.\n",
        "\n",
        "* Does NumPy keep the array elements in the same order after being flattened and reshaped?"
      ],
      "metadata": {
        "id": "0vTBiuSLJQcv"
      }
    },
    {
      "cell_type": "code",
      "source": [
        "reshaped_game = np.reshape(flattened_game,(9,9))\n",
        "print(reshaped_game)\n"
      ],
      "metadata": {
        "id": "80hxMhr2JREn",
        "outputId": "b68a6d61-e91d-42b2-874f-f496c93f6d8e",
        "colab": {
          "base_uri": "https://localhost:8080/"
        }
      },
      "execution_count": 69,
      "outputs": [
        {
          "output_type": "stream",
          "name": "stdout",
          "text": [
            "[[0 0 4 3 0 0 2 0 9]\n",
            " [0 0 5 0 0 9 0 0 1]\n",
            " [0 7 0 0 6 0 0 4 3]\n",
            " [0 0 6 0 0 2 0 8 7]\n",
            " [1 9 0 0 0 7 4 0 0]\n",
            " [0 5 0 0 8 3 0 0 0]\n",
            " [6 0 0 0 0 0 1 0 5]\n",
            " [0 0 3 5 0 8 6 9 0]\n",
            " [0 4 2 9 1 0 3 0 0]]\n"
          ]
        }
      ]
    }
  ]
}